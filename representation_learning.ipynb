{
 "cells": [
  {
   "cell_type": "code",
   "execution_count": 5,
   "id": "05b87297",
   "metadata": {},
   "outputs": [],
   "source": [
    "%load_ext autoreload\n",
    "%autoreload 2"
   ]
  },
  {
   "cell_type": "code",
   "execution_count": 6,
   "id": "6c0584db",
   "metadata": {},
   "outputs": [],
   "source": [
    "import pandas as pd\n",
    "import yaml\n",
    "from sklearn.metrics.pairwise import cosine_similarity\n",
    "\n",
    "import autoencoder"
   ]
  },
  {
   "cell_type": "markdown",
   "id": "2853fece",
   "metadata": {},
   "source": [
    "## Representation learning"
   ]
  },
  {
   "cell_type": "markdown",
   "id": "b049c988",
   "metadata": {},
   "source": [
    "Train autoencoder and obtain the embeddings."
   ]
  },
  {
   "cell_type": "code",
   "execution_count": 7,
   "id": "344f8c47",
   "metadata": {},
   "outputs": [
    {
     "name": "stdout",
     "output_type": "stream",
     "text": [
      "Autoencoder(\n",
      "  (encoder0): Linear(in_features=1425, out_features=1024, bias=True)\n",
      "  (encoder1): Linear(in_features=1024, out_features=1024, bias=True)\n",
      "  (encoder2): Linear(in_features=1024, out_features=768, bias=True)\n",
      "  (encoder22): Linear(in_features=768, out_features=512, bias=True)\n",
      "  (encoder3): Linear(in_features=512, out_features=256, bias=True)\n",
      "  (decoder0): Linear(in_features=256, out_features=512, bias=True)\n",
      "  (decoder11): Linear(in_features=512, out_features=768, bias=True)\n",
      "  (decoder1): Linear(in_features=768, out_features=1024, bias=True)\n",
      "  (decoder2): Linear(in_features=1024, out_features=1024, bias=True)\n",
      "  (decoder3): Linear(in_features=1024, out_features=1425, bias=True)\n",
      "  (activation): Tanh()\n",
      ")\n",
      "Epoch 100/600, Loss: 0.3514698858444507\n",
      "Epoch 200/600, Loss: 0.24097653593008334\n",
      "Epoch 300/600, Loss: 0.20460479190716377\n",
      "Epoch 400/600, Loss: 0.19185469299554825\n",
      "Epoch 500/600, Loss: 0.1866001716026893\n",
      "Epoch 600/600, Loss: 0.18378102492827636\n"
     ]
    }
   ],
   "source": [
    "autoencoder.representation_learning()"
   ]
  },
  {
   "cell_type": "markdown",
   "id": "65f47870",
   "metadata": {},
   "source": [
    "To find the **5 most similar** video clips to a random one in the training set, you can follow these steps:\n",
    "\n",
    "<ol>\n",
    "<li>Select a random video clip from the training set.</li>\n",
    "<li>Calculate the similarity between the embeddings of the selected video clip and all the other video clips using a similarity metric such as cosine similarity.</li>\n",
    "<li>Sort the video clips based on their similarity to the selected video clip in descending order.</li>\n",
    "<li>Retrieve the 5 most similar video clips from the sorted list.</li>\n",
    "</ol>"
   ]
  },
  {
   "cell_type": "code",
   "execution_count": 8,
   "id": "6394f1a3",
   "metadata": {},
   "outputs": [],
   "source": [
    " with open('./config.yaml', 'r') as f:\n",
    "    config = yaml.load(f, Loader=yaml.FullLoader)\n",
    "\n",
    "EMBEDDINGS_PATH = config[\"EMBEDDINGS_PATH\"]\n",
    "\n",
    "embeddings = pd.read_csv(EMBEDDINGS_PATH)"
   ]
  },
  {
   "cell_type": "code",
   "execution_count": 9,
   "id": "b8df767c",
   "metadata": {},
   "outputs": [
    {
     "data": {
      "text/plain": [
       "84                      Leftöver Crack - Rock The 40 oz.\n",
       "62     Bloodhound Gang - Fire Water Burn (Official Vi...\n",
       "308                              The Wild! - Livin' Free\n",
       "722    Black Stone Cherry - Cheaper To Drink Alone (O...\n",
       "357                    The Struts - Put Your Money On Me\n",
       "Name: song_name, dtype: object"
      ]
     },
     "execution_count": 9,
     "metadata": {},
     "output_type": "execute_result"
    }
   ],
   "source": [
    "new_row = embeddings.iloc[84, 1:]\n",
    "\n",
    "# Calculate cosine similarity\n",
    "cos_sim = cosine_similarity(embeddings.iloc[:, 1:].values, new_row.values.reshape(1, -1))\n",
    "\n",
    "# Create a dataframe with cosine similarity values and row indices\n",
    "similarity_df = pd.DataFrame({'similarity': cos_sim.flatten(), 'index': embeddings.index})\n",
    "\n",
    "# Sort dataframe by similarity in descending order\n",
    "sorted_df = similarity_df.sort_values(by='similarity', ascending=False)\n",
    "\n",
    "# Get the top k rows\n",
    "k = 5  # Replace with your desired value of k\n",
    "top_k_rows = embeddings.loc[sorted_df['index'].head(k)]\n",
    "\n",
    "top_k_rows.song_name"
   ]
  }
 ],
 "metadata": {
  "kernelspec": {
   "display_name": "Python (multimodal)",
   "language": "python",
   "name": "multimodal"
  },
  "language_info": {
   "codemirror_mode": {
    "name": "ipython",
    "version": 3
   },
   "file_extension": ".py",
   "mimetype": "text/x-python",
   "name": "python",
   "nbconvert_exporter": "python",
   "pygments_lexer": "ipython3",
   "version": "3.9.16"
  }
 },
 "nbformat": 4,
 "nbformat_minor": 5
}
