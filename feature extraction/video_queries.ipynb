{
 "cells": [
  {
   "cell_type": "code",
   "execution_count": 1,
   "id": "aef8f877",
   "metadata": {},
   "outputs": [],
   "source": [
    "%load_ext autoreload\n",
    "%autoreload 2"
   ]
  },
  {
   "cell_type": "code",
   "execution_count": 2,
   "id": "4f35cfca",
   "metadata": {},
   "outputs": [],
   "source": [
    "from video_retrieval import retrieve_closest_videos\n",
    "from sklearn.metrics.pairwise import cosine_similarity\n",
    "from sklearn.decomposition import PCA\n",
    "import yaml\n",
    "import pandas as pd"
   ]
  },
  {
   "cell_type": "code",
   "execution_count": 3,
   "id": "4c1ed8dd",
   "metadata": {},
   "outputs": [],
   "source": [
    "with open('../config.yaml', 'r') as f:\n",
    "    config = yaml.load(f, Loader=yaml.FullLoader)\n",
    "\n",
    "FEATS_PATH = config[\"FEATS_PATH\"]\n",
    "EMBEDDINGS_PATH = config[\"EMBEDDINGS_PATH\"]"
   ]
  },
  {
   "cell_type": "markdown",
   "id": "6bb07534",
   "metadata": {},
   "source": [
    "Functions that concatenate features of all three modalities."
   ]
  },
  {
   "cell_type": "code",
   "execution_count": 4,
   "id": "1113639e",
   "metadata": {},
   "outputs": [],
   "source": [
    "def create_merged_df(video_feats, audio_feats, text_feats):\n",
    "    \n",
    "    df_audio = pd.read_csv(audio_feats)\n",
    "    df_audio.drop_duplicates(subset='song_name', keep='first', inplace=True, ignore_index=True)\n",
    "    df_text = pd.read_csv(text_feats)\n",
    "    df_text.drop_duplicates(subset='song_name', keep='first', inplace=True, ignore_index=True)\n",
    "    df_video = pd.read_csv(video_feats)\n",
    "    df_video.drop_duplicates(subset='song_name', keep='first', inplace=True, ignore_index=True)\n",
    "\n",
    "    data = pd.merge(df_video, df_audio, on='song_name')\n",
    "    data = pd.merge(data, df_text, on='song_name')\n",
    "\n",
    "    data = data.drop(['audio_path'], axis=1)\n",
    "    \n",
    "    return data"
   ]
  },
  {
   "cell_type": "markdown",
   "id": "00870680",
   "metadata": {},
   "source": [
    "Get features without embeddings."
   ]
  },
  {
   "cell_type": "code",
   "execution_count": 5,
   "id": "212fb5bf",
   "metadata": {},
   "outputs": [],
   "source": [
    "def initial_features(FEATS_PATH, pca=False):\n",
    "    \n",
    "    video_feats = FEATS_PATH + \"\\\\video_feats.csv\"\n",
    "    audio_feats = FEATS_PATH + \"\\\\audio_feats.csv\"\n",
    "    text_feats = FEATS_PATH + \"\\\\lyrics_embeddings.csv\"\n",
    "\n",
    "    database = create_merged_df(video_feats, audio_feats, text_feats)\n",
    "\n",
    "    video_feats = FEATS_PATH + \"\\\\video_feats_test.csv\"\n",
    "    audio_feats = FEATS_PATH + \"\\\\audio_feats_test.csv\"\n",
    "    text_feats = FEATS_PATH + \"\\\\lyrics_embeddings_test.csv\"\n",
    "\n",
    "    query = create_merged_df(video_feats, audio_feats, text_feats)\n",
    "    \n",
    "    database_song_names = database.iloc[:,0]\n",
    "    query_song_names = query.iloc[:,0]\n",
    "     \n",
    "    if pca:\n",
    "        pca = PCA(n_components=256)\n",
    "        database = pca.fit_transform(database.iloc[:,1:])  \n",
    "        query = pca.transform(query.iloc[:,1:])\n",
    "\n",
    "        database = pd.DataFrame(database)\n",
    "        query = pd.DataFrame(query)\n",
    "\n",
    "        database.insert(0,\"song_name\", database_song_names.to_list())\n",
    "        query.insert(0,\"song_name\", query_song_names.to_list())\n",
    "    \n",
    "    q = query.iloc[0, 1:]\n",
    "\n",
    "    # Get distance \n",
    "    cos_sim = cosine_similarity(database.iloc[:, 1:].values, q.values.reshape(1, -1))\n",
    "    similarity_df = pd.DataFrame({'similarity': cos_sim.flatten(), 'index': database.index})\n",
    "    sorted_df = similarity_df.sort_values(by='similarity', ascending=False)\n",
    "    k = 5  \n",
    "    top_k_rows = database.loc[sorted_df['index'].head(k)]\n",
    "\n",
    "    print(f'Video clip: {query.iloc[0, 0]} similar to the following')\n",
    "    print(top_k_rows.song_name)"
   ]
  },
  {
   "cell_type": "markdown",
   "id": "87d6e77f",
   "metadata": {},
   "source": [
    "## Query Examples"
   ]
  },
  {
   "cell_type": "markdown",
   "id": "9cf43f0a",
   "metadata": {},
   "source": [
    "Initially, we retrieve the 5 most similar videos using our approach. Subsequently, we repeat the process without obtaining a latent representation, and then again after obtaining one using PCA. Our method outperforms the others."
   ]
  },
  {
   "cell_type": "markdown",
   "id": "06af7484",
   "metadata": {},
   "source": [
    "**Video Clip 1** : *\"Falling In Reverse - ZOMBIFIED\"*"
   ]
  },
  {
   "cell_type": "markdown",
   "id": "3fe37edb",
   "metadata": {},
   "source": [
    "**AutoEncoder**"
   ]
  },
  {
   "cell_type": "code",
   "execution_count": 6,
   "id": "661e27a9",
   "metadata": {},
   "outputs": [
    {
     "name": "stdout",
     "output_type": "stream",
     "text": [
      "[youtube] Extracting URL: https://www.youtube.com/watch?v=YDDz1Er2IXA\n",
      "[youtube] YDDz1Er2IXA: Downloading webpage\n",
      "[youtube] YDDz1Er2IXA: Downloading ios player API JSON\n",
      "[youtube] YDDz1Er2IXA: Downloading android player API JSON\n",
      "[youtube] YDDz1Er2IXA: Downloading m3u8 information\n",
      "[info] YDDz1Er2IXA: Downloading 1 format(s): 625+140\n",
      "[hlsnative] Downloading m3u8 manifest\n",
      "[hlsnative] Total fragments: 43\n",
      "[download] Destination: C:\\Users\\tatbo\\PycharmProjects\\Multimodal\\data\\data_test\\Falling In Reverse - ＂ZOMBIFIED＂.f625.mp4\n",
      "[download] 100% of  353.94MiB in 00:01:34 at 3.73MiB/s                     \n",
      "[download] Destination: C:\\Users\\tatbo\\PycharmProjects\\Multimodal\\data\\data_test\\Falling In Reverse - ＂ZOMBIFIED＂.f140.m4a\n",
      "[download] 100% of    3.67MiB in 00:00:00 at 4.46MiB/s   \n",
      "[Merger] Merging formats into \"C:\\Users\\tatbo\\PycharmProjects\\Multimodal\\data\\data_test\\Falling In Reverse - ＂ZOMBIFIED＂.mp4\"\n",
      "Deleting original file C:\\Users\\tatbo\\PycharmProjects\\Multimodal\\data\\data_test\\Falling In Reverse - ＂ZOMBIFIED＂.f140.m4a (pass -k to keep)\n",
      "Deleting original file C:\\Users\\tatbo\\PycharmProjects\\Multimodal\\data\\data_test\\Falling In Reverse - ＂ZOMBIFIED＂.f625.mp4 (pass -k to keep)\n",
      "Device is: cuda:0\n"
     ]
    },
    {
     "name": "stderr",
     "output_type": "stream",
     "text": [
      "Using cache found in C:\\Users\\tatbo/.cache\\torch\\hub\\facebookresearch_pytorchvideo_main\n"
     ]
    },
    {
     "name": "stdout",
     "output_type": "stream",
     "text": [
      "Number of trainable parameters: 32454096\n",
      "\n",
      "0\n",
      "Device is: cuda:0\n"
     ]
    },
    {
     "name": "stderr",
     "output_type": "stream",
     "text": [
      "Some weights of the model checkpoint at bert-base-uncased were not used when initializing BertModel: ['cls.predictions.transform.dense.weight', 'cls.predictions.bias', 'cls.predictions.transform.dense.bias', 'cls.predictions.transform.LayerNorm.bias', 'cls.predictions.transform.LayerNorm.weight', 'cls.seq_relationship.bias', 'cls.seq_relationship.weight']\n",
      "- This IS expected if you are initializing BertModel from the checkpoint of a model trained on another task or with another architecture (e.g. initializing a BertForSequenceClassification model from a BertForPreTraining model).\n",
      "- This IS NOT expected if you are initializing BertModel from the checkpoint of a model that you expect to be exactly identical (initializing a BertForSequenceClassification model from a BertForSequenceClassification model).\n"
     ]
    },
    {
     "name": "stdout",
     "output_type": "stream",
     "text": [
      "(1, 257)\n",
      "(821, 257)\n",
      "Video clip: Falling In Reverse - ＂ZOMBI similar to the following\n",
      "279    Disturbed - Another Way To Die [Official Music...\n",
      "205    Avenged Sevenfold - Shepherd Of Fire [Official...\n",
      "79     Social Distortion   Reach For The Sky (FMX Mus...\n",
      "640                         WATERPARKS - RITUAL (VISUAL)\n",
      "394              K.Flay - Raw Raw (Official Music Video)\n",
      "Name: song_name, dtype: object\n"
     ]
    }
   ],
   "source": [
    "retrieve_closest_videos(\"Falling In Reverse - ZOMBIFIED\")"
   ]
  },
  {
   "cell_type": "markdown",
   "id": "4fcee36c",
   "metadata": {},
   "source": [
    "**Raw features**"
   ]
  },
  {
   "cell_type": "code",
   "execution_count": 7,
   "id": "9ee1916b",
   "metadata": {},
   "outputs": [
    {
     "name": "stdout",
     "output_type": "stream",
     "text": [
      "Video clip: Falling In Reverse - ＂ZOMBI similar to the following\n",
      "527                             Parklife (2012 Remaster)\n",
      "543    Sonic Martini Music - User User User (Official...\n",
      "551    The Calling - Wherever You Will Go (First Vide...\n",
      "709          Sum 41 - In Too Deep (Official Music Video)\n",
      "624                  Green Day - Hitchin' A Ride (Video)\n",
      "Name: song_name, dtype: object\n"
     ]
    }
   ],
   "source": [
    "initial_features(FEATS_PATH=FEATS_PATH)"
   ]
  },
  {
   "cell_type": "markdown",
   "id": "3e26a618",
   "metadata": {},
   "source": [
    "**PCA**"
   ]
  },
  {
   "cell_type": "code",
   "execution_count": 8,
   "id": "0279dba7",
   "metadata": {},
   "outputs": [
    {
     "name": "stdout",
     "output_type": "stream",
     "text": [
      "Video clip: Falling In Reverse - ＂ZOMBI similar to the following\n",
      "737    Yellowcard - Southern Air (+ Lyrics & HQ_HD Au...\n",
      "543    Sonic Martini Music - User User User (Official...\n",
      "496    Matchbox Twenty - Don't Get Me Wrong [Official...\n",
      "184       Destiny's Child - Soldier ft. T.I., Lil' Wayne\n",
      "201    Ice Cube, Mack 10, Ms. Toi - You Can Do It (Of...\n",
      "Name: song_name, dtype: object\n"
     ]
    }
   ],
   "source": [
    "initial_features(FEATS_PATH=FEATS_PATH, pca=True)"
   ]
  },
  {
   "cell_type": "markdown",
   "id": "8a36d9a5",
   "metadata": {},
   "source": [
    "**Video 2** : *\"STORMZY - LONGEVITY FLOW\"*"
   ]
  },
  {
   "cell_type": "markdown",
   "id": "ca07036a",
   "metadata": {},
   "source": [
    "**AutoEncoder**"
   ]
  },
  {
   "cell_type": "code",
   "execution_count": 9,
   "id": "b2a85623",
   "metadata": {},
   "outputs": [
    {
     "name": "stdout",
     "output_type": "stream",
     "text": [
      "[youtube] Extracting URL: https://www.youtube.com/watch?v=nuSGNTd5kCk\n",
      "[youtube] nuSGNTd5kCk: Downloading webpage\n",
      "[youtube] nuSGNTd5kCk: Downloading ios player API JSON\n",
      "[youtube] nuSGNTd5kCk: Downloading android player API JSON\n",
      "[youtube] nuSGNTd5kCk: Downloading m3u8 information\n",
      "[info] nuSGNTd5kCk: Downloading 1 format(s): 625+140\n",
      "[hlsnative] Downloading m3u8 manifest\n",
      "[hlsnative] Total fragments: 38\n",
      "[download] Destination: C:\\Users\\tatbo\\PycharmProjects\\Multimodal\\data\\data_test\\STORMZY - LONGEVITY FLOW.f625.mp4\n",
      "[download] 100% of  300.17MiB in 00:01:13 at 4.09MiB/s                     \n",
      "[download] Destination: C:\\Users\\tatbo\\PycharmProjects\\Multimodal\\data\\data_test\\STORMZY - LONGEVITY FLOW.f140.m4a\n",
      "[download] 100% of    2.84MiB in 00:00:00 at 4.04MiB/s   \n",
      "[Merger] Merging formats into \"C:\\Users\\tatbo\\PycharmProjects\\Multimodal\\data\\data_test\\STORMZY - LONGEVITY FLOW.mp4\"\n",
      "Deleting original file C:\\Users\\tatbo\\PycharmProjects\\Multimodal\\data\\data_test\\STORMZY - LONGEVITY FLOW.f140.m4a (pass -k to keep)\n",
      "Deleting original file C:\\Users\\tatbo\\PycharmProjects\\Multimodal\\data\\data_test\\STORMZY - LONGEVITY FLOW.f625.mp4 (pass -k to keep)\n",
      "Device is: cuda:0\n"
     ]
    },
    {
     "name": "stderr",
     "output_type": "stream",
     "text": [
      "Using cache found in C:\\Users\\tatbo/.cache\\torch\\hub\\facebookresearch_pytorchvideo_main\n"
     ]
    },
    {
     "name": "stdout",
     "output_type": "stream",
     "text": [
      "Number of trainable parameters: 32454096\n",
      "\n",
      "0\n",
      "Device is: cuda:0\n"
     ]
    },
    {
     "name": "stderr",
     "output_type": "stream",
     "text": [
      "Some weights of the model checkpoint at bert-base-uncased were not used when initializing BertModel: ['cls.predictions.transform.dense.weight', 'cls.predictions.bias', 'cls.predictions.transform.dense.bias', 'cls.predictions.transform.LayerNorm.bias', 'cls.predictions.transform.LayerNorm.weight', 'cls.seq_relationship.bias', 'cls.seq_relationship.weight']\n",
      "- This IS expected if you are initializing BertModel from the checkpoint of a model trained on another task or with another architecture (e.g. initializing a BertForSequenceClassification model from a BertForPreTraining model).\n",
      "- This IS NOT expected if you are initializing BertModel from the checkpoint of a model that you expect to be exactly identical (initializing a BertForSequenceClassification model from a BertForSequenceClassification model).\n"
     ]
    },
    {
     "name": "stdout",
     "output_type": "stream",
     "text": [
      "(1, 257)\n",
      "(821, 257)\n",
      "Video clip: STORMZY - LONGEVITY similar to the following\n",
      "250           Central Cee - Retail Therapy [Music Video]\n",
      "733                Mike Jones - Back Then Part 2 (Video)\n",
      "617    Female Special - Plugged In w_ Fumez The Engin...\n",
      "732    Cristale x Teezandos - Plugged In w_ Fumez The...\n",
      "441    Ying Yang Twins - Salt Shaker (feat. Lil Jon &...\n",
      "Name: song_name, dtype: object\n"
     ]
    }
   ],
   "source": [
    "retrieve_closest_videos(\"STORMZY - LONGEVITY FLOW\")"
   ]
  },
  {
   "cell_type": "markdown",
   "id": "aa645569",
   "metadata": {},
   "source": [
    "**Raw features**"
   ]
  },
  {
   "cell_type": "code",
   "execution_count": 10,
   "id": "91f91133",
   "metadata": {},
   "outputs": [
    {
     "name": "stdout",
     "output_type": "stream",
     "text": [
      "Video clip: STORMZY - LONGEVITY similar to the following\n",
      "215                     Lloyd Banks - On Fire (Explicit)\n",
      "118                          Old Dominion - One Man Band\n",
      "531    Ricky Montgomery - Line Without a Hook (Offici...\n",
      "160                  Baby Bash - Suga Suga ft. Frankie J\n",
      "146    Zac Brown Band - Chicken Fried (Official Music...\n",
      "Name: song_name, dtype: object\n"
     ]
    }
   ],
   "source": [
    "initial_features(FEATS_PATH=FEATS_PATH)"
   ]
  },
  {
   "cell_type": "markdown",
   "id": "70f0f3b2",
   "metadata": {},
   "source": [
    "**PCA**"
   ]
  },
  {
   "cell_type": "code",
   "execution_count": 11,
   "id": "4eb0e70d",
   "metadata": {},
   "outputs": [
    {
     "name": "stdout",
     "output_type": "stream",
     "text": [
      "Video clip: STORMZY - LONGEVITY similar to the following\n",
      "531    Ricky Montgomery - Line Without a Hook (Offici...\n",
      "160                  Baby Bash - Suga Suga ft. Frankie J\n",
      "215                     Lloyd Banks - On Fire (Explicit)\n",
      "47               Dan + Shay - Speechless (Wedding Video)\n",
      "173    Chris Brown - Yo (Excuse Me Miss) (Official HD...\n",
      "Name: song_name, dtype: object\n"
     ]
    }
   ],
   "source": [
    "initial_features(FEATS_PATH=FEATS_PATH, pca=True)"
   ]
  },
  {
   "cell_type": "markdown",
   "id": "972fd6b0",
   "metadata": {},
   "source": [
    "**Video 3** : *\"B.B. King - The Thrill Is Gone\"*"
   ]
  },
  {
   "cell_type": "markdown",
   "id": "3b77eae2",
   "metadata": {},
   "source": [
    "**AutoEncoder**"
   ]
  },
  {
   "cell_type": "code",
   "execution_count": 12,
   "id": "01089c91",
   "metadata": {},
   "outputs": [
    {
     "name": "stdout",
     "output_type": "stream",
     "text": [
      "[youtube] Extracting URL: https://www.youtube.com/watch?v=SgXSomPE_FY\n",
      "[youtube] SgXSomPE_FY: Downloading webpage\n",
      "[youtube] SgXSomPE_FY: Downloading ios player API JSON\n",
      "[youtube] SgXSomPE_FY: Downloading android player API JSON\n",
      "[youtube] SgXSomPE_FY: Downloading m3u8 information\n",
      "[info] SgXSomPE_FY: Downloading 1 format(s): 133+140\n",
      "[download] Destination: C:\\Users\\tatbo\\PycharmProjects\\Multimodal\\data\\data_test\\B.B. King - The Thrill Is Gone [Crossroads 2010] (Official Live Video).f133.mp4\n",
      "[download] 100% of    7.71MiB in 00:00:02 at 3.60MiB/s   \n",
      "[download] Destination: C:\\Users\\tatbo\\PycharmProjects\\Multimodal\\data\\data_test\\B.B. King - The Thrill Is Gone [Crossroads 2010] (Official Live Video).f140.m4a\n",
      "[download] 100% of   10.28MiB in 00:00:02 at 3.60MiB/s   \n",
      "[Merger] Merging formats into \"C:\\Users\\tatbo\\PycharmProjects\\Multimodal\\data\\data_test\\B.B. King - The Thrill Is Gone [Crossroads 2010] (Official Live Video).mp4\"\n",
      "Deleting original file C:\\Users\\tatbo\\PycharmProjects\\Multimodal\\data\\data_test\\B.B. King - The Thrill Is Gone [Crossroads 2010] (Official Live Video).f133.mp4 (pass -k to keep)\n",
      "Deleting original file C:\\Users\\tatbo\\PycharmProjects\\Multimodal\\data\\data_test\\B.B. King - The Thrill Is Gone [Crossroads 2010] (Official Live Video).f140.m4a (pass -k to keep)\n",
      "Device is: cuda:0\n"
     ]
    },
    {
     "name": "stderr",
     "output_type": "stream",
     "text": [
      "Using cache found in C:\\Users\\tatbo/.cache\\torch\\hub\\facebookresearch_pytorchvideo_main\n"
     ]
    },
    {
     "name": "stdout",
     "output_type": "stream",
     "text": [
      "Number of trainable parameters: 32454096\n",
      "\n",
      "0\n",
      "Device is: cuda:0\n"
     ]
    },
    {
     "name": "stderr",
     "output_type": "stream",
     "text": [
      "Some weights of the model checkpoint at bert-base-uncased were not used when initializing BertModel: ['cls.predictions.transform.dense.weight', 'cls.predictions.bias', 'cls.predictions.transform.dense.bias', 'cls.predictions.transform.LayerNorm.bias', 'cls.predictions.transform.LayerNorm.weight', 'cls.seq_relationship.bias', 'cls.seq_relationship.weight']\n",
      "- This IS expected if you are initializing BertModel from the checkpoint of a model trained on another task or with another architecture (e.g. initializing a BertForSequenceClassification model from a BertForPreTraining model).\n",
      "- This IS NOT expected if you are initializing BertModel from the checkpoint of a model that you expect to be exactly identical (initializing a BertForSequenceClassification model from a BertForSequenceClassification model).\n"
     ]
    },
    {
     "name": "stdout",
     "output_type": "stream",
     "text": [
      "(1, 257)\n",
      "(821, 257)\n",
      "Video clip: B.B. King - The Thrill Is Gone [Crossroads 2010] (Official Live V similar to the following\n",
      "504            Georgia field hands - Mary Don't You Weep\n",
      "381                   Tyler Childers _ Feathered Indians\n",
      "613                    Muddy Waters - Crawlin King Snake\n",
      "180    Disturbed - The Sound of Silence [Live in Daws...\n",
      "173    The Midnight Sons Band - Brother - CD Release ...\n",
      "Name: song_name, dtype: object\n"
     ]
    }
   ],
   "source": [
    "retrieve_closest_videos(\"B.B. King - The Thrill Is Gone [Crossroads 2010] (Official Live Video)\")"
   ]
  },
  {
   "cell_type": "markdown",
   "id": "85b66132",
   "metadata": {},
   "source": [
    "**Raw features**"
   ]
  },
  {
   "cell_type": "code",
   "execution_count": 13,
   "id": "7edc2c4e",
   "metadata": {},
   "outputs": [
    {
     "name": "stdout",
     "output_type": "stream",
     "text": [
      "Video clip: B.B. King - The Thrill Is Gone [Crossroads 2010] (Official Live V similar to the following\n",
      "262                                      Bonnie's Lounge\n",
      "603    Bloodhound Gang - Fire Water Burn (Official Vi...\n",
      "58     George Strait - Check Yes Or No (Official Musi...\n",
      "769          The Stylistics - You Make Me Feel Brand New\n",
      "395                                  The Sheepdogs - Who\n",
      "Name: song_name, dtype: object\n"
     ]
    }
   ],
   "source": [
    "initial_features(FEATS_PATH=FEATS_PATH)"
   ]
  },
  {
   "cell_type": "markdown",
   "id": "918ed291",
   "metadata": {},
   "source": [
    "**PCA**"
   ]
  },
  {
   "cell_type": "code",
   "execution_count": 14,
   "id": "66dddaee",
   "metadata": {},
   "outputs": [
    {
     "name": "stdout",
     "output_type": "stream",
     "text": [
      "Video clip: B.B. King - The Thrill Is Gone [Crossroads 2010] (Official Live V similar to the following\n",
      "1                               Bukka White - Miss Leola\n",
      "8                 Mississippi Fred McDowell - John Henry\n",
      "742    Bobby Womack - If You Think You're Lonely Now ...\n",
      "769          The Stylistics - You Make Me Feel Brand New\n",
      "747                        Dells - Oh What a Night -1969\n",
      "Name: song_name, dtype: object\n"
     ]
    }
   ],
   "source": [
    "initial_features(FEATS_PATH=FEATS_PATH, pca=True)"
   ]
  },
  {
   "cell_type": "markdown",
   "id": "23fb90cd",
   "metadata": {},
   "source": [
    "## Clustering of Latent Space"
   ]
  },
  {
   "cell_type": "markdown",
   "id": "9ef04fff",
   "metadata": {},
   "source": [
    "We perform PCA on the embeddings derived from the data collection to examine whether the resulting clusters align with the initial genres of our video clips."
   ]
  },
  {
   "cell_type": "code",
   "execution_count": 15,
   "id": "d7b6f5ab",
   "metadata": {},
   "outputs": [],
   "source": [
    "embeddings = pd.read_csv(EMBEDDINGS_PATH)"
   ]
  },
  {
   "cell_type": "code",
   "execution_count": 16,
   "id": "82e1f8b6",
   "metadata": {},
   "outputs": [
    {
     "data": {
      "image/png": "[encoded data removed]",
      "text/plain": [
       "<Figure size 640x480 with 1 Axes>"
      ]
     },
     "metadata": {},
     "output_type": "display_data"
    }
   ],
   "source": [
    "import numpy as np\n",
    "from sklearn.cluster import KMeans\n",
    "from sklearn.metrics.pairwise import cosine_similarity\n",
    "import matplotlib.pyplot as plt\n",
    "\n",
    "embeddings_n = embeddings.iloc[:,1:]\n",
    "\n",
    "# Perform K-means clustering for different values of k\n",
    "k_values = [3,5,7,9,11]\n",
    "squared_distances = []\n",
    "for k in k_values:\n",
    "    kmeans = KMeans(n_clusters=k)\n",
    "    labels = kmeans.fit_predict(embeddings_n)\n",
    "    squared_distance = kmeans.inertia_\n",
    "    squared_distances.append(squared_distance)\n",
    "\n",
    "# Plot the Elbow curve\n",
    "plt.plot(k_values, squared_distances, 'bx-')\n",
    "plt.xlabel('Number of Clusters (k)')\n",
    "plt.ylabel('Sum of Squared Distances')\n",
    "plt.title('Elbow Method')\n",
    "plt.show()"
   ]
  },
  {
   "cell_type": "markdown",
   "id": "4ad7f056",
   "metadata": {},
   "source": [
    "Run k-means using \"best\" number of clusters"
   ]
  },
  {
   "cell_type": "code",
   "execution_count": 17,
   "id": "3278430b",
   "metadata": {},
   "outputs": [],
   "source": [
    "kmeans = KMeans(n_clusters=9)\n",
    "labels = kmeans.fit_predict(embeddings_n)\n",
    "squared_distance = kmeans.inertia_\n",
    "squared_distances.append(squared_distance)"
   ]
  },
  {
   "cell_type": "code",
   "execution_count": 18,
   "id": "76bea7f1",
   "metadata": {},
   "outputs": [],
   "source": [
    "labels = labels+1\n",
    "labels = list(labels)"
   ]
  },
  {
   "cell_type": "code",
   "execution_count": 19,
   "id": "33459a4f",
   "metadata": {},
   "outputs": [],
   "source": [
    "# Sample 10 samples from each cluster\n",
    "samples_per_cluster = 5\n",
    "cluster_samples = []\n",
    "\n",
    "embeddings_n.insert(0,\"cluster\", labels)\n",
    "embeddings_n.insert(0,\"song_name\", embeddings.iloc[:,0].to_list())"
   ]
  },
  {
   "cell_type": "code",
   "execution_count": 20,
   "id": "f2a9891e",
   "metadata": {},
   "outputs": [
    {
     "data": {
      "text/plain": [
       "cluster\n",
       "1     69\n",
       "2     72\n",
       "3    113\n",
       "4    100\n",
       "5     93\n",
       "6     85\n",
       "7     99\n",
       "8     85\n",
       "9    105\n",
       "Name: song_name, dtype: int64"
      ]
     },
     "execution_count": 20,
     "metadata": {},
     "output_type": "execute_result"
    }
   ],
   "source": [
    "embeddings_n.groupby(\"cluster\").count()[\"song_name\"]"
   ]
  },
  {
   "cell_type": "code",
   "execution_count": 123,
   "id": "c37a41c4",
   "metadata": {
    "scrolled": false
   },
   "outputs": [
    {
     "data": {
      "text/html": [
       "<div>\n",
       "<style scoped>\n",
       "    .dataframe tbody tr th:only-of-type {\n",
       "        vertical-align: middle;\n",
       "    }\n",
       "\n",
       "    .dataframe tbody tr th {\n",
       "        vertical-align: top;\n",
       "    }\n",
       "\n",
       "    .dataframe thead th {\n",
       "        text-align: right;\n",
       "    }\n",
       "</style>\n",
       "<table border=\"1\" class=\"dataframe\">\n",
       "  <thead>\n",
       "    <tr style=\"text-align: right;\">\n",
       "      <th></th>\n",
       "      <th></th>\n",
       "      <th>song_name</th>\n",
       "    </tr>\n",
       "    <tr>\n",
       "      <th>cluster</th>\n",
       "      <th></th>\n",
       "      <th></th>\n",
       "    </tr>\n",
       "  </thead>\n",
       "  <tbody>\n",
       "    <tr>\n",
       "      <th rowspan=\"5\" valign=\"top\">1</th>\n",
       "      <th>695</th>\n",
       "      <td>Luke Bryan - Roller Coaster (Official Music Vi...</td>\n",
       "    </tr>\n",
       "    <tr>\n",
       "      <th>57</th>\n",
       "      <td>Choking Victim - War Story</td>\n",
       "    </tr>\n",
       "    <tr>\n",
       "      <th>111</th>\n",
       "      <td>Craig Cardiff - Emm &amp; May (Official Video)</td>\n",
       "    </tr>\n",
       "    <tr>\n",
       "      <th>393</th>\n",
       "      <td>Coldplay - Adventure Of A Lifetime (Official V...</td>\n",
       "    </tr>\n",
       "    <tr>\n",
       "      <th>626</th>\n",
       "      <td>Murray McLauchlan _ Down by the Henry Moore</td>\n",
       "    </tr>\n",
       "    <tr>\n",
       "      <th rowspan=\"5\" valign=\"top\">2</th>\n",
       "      <th>667</th>\n",
       "      <td>Billy Ray Cyrus - Achy Breaky Heart (Official ...</td>\n",
       "    </tr>\n",
       "    <tr>\n",
       "      <th>436</th>\n",
       "      <td>One Direction - You &amp; I</td>\n",
       "    </tr>\n",
       "    <tr>\n",
       "      <th>253</th>\n",
       "      <td>Chris Young - The Man I Want To Be (Official V...</td>\n",
       "    </tr>\n",
       "    <tr>\n",
       "      <th>820</th>\n",
       "      <td>Sam Smith - Stay With Me ft. Mary J. Blige (Live)</td>\n",
       "    </tr>\n",
       "    <tr>\n",
       "      <th>402</th>\n",
       "      <td>Maddie &amp; Tae - Die From A Broken Heart (Offici...</td>\n",
       "    </tr>\n",
       "    <tr>\n",
       "      <th rowspan=\"5\" valign=\"top\">3</th>\n",
       "      <th>351</th>\n",
       "      <td>(OOAK) Russ Millions x Buni x YV - Reggae &amp; Ca...</td>\n",
       "    </tr>\n",
       "    <tr>\n",
       "      <th>132</th>\n",
       "      <td>Florence + The Machine - Dog Days Are Over (20...</td>\n",
       "    </tr>\n",
       "    <tr>\n",
       "      <th>407</th>\n",
       "      <td>Pennywise - 'Same Old Story'</td>\n",
       "    </tr>\n",
       "    <tr>\n",
       "      <th>541</th>\n",
       "      <td>Coldplay - Hymn For The Weekend (Official Video)</td>\n",
       "    </tr>\n",
       "    <tr>\n",
       "      <th>760</th>\n",
       "      <td>Sly Slick and Wicked - Somebody Please</td>\n",
       "    </tr>\n",
       "    <tr>\n",
       "      <th rowspan=\"5\" valign=\"top\">4</th>\n",
       "      <th>440</th>\n",
       "      <td>Hate It Too - 'Twelve's the New Eight' Officia...</td>\n",
       "    </tr>\n",
       "    <tr>\n",
       "      <th>794</th>\n",
       "      <td>Counting Crows - Mr. Jones (Official Music Video)</td>\n",
       "    </tr>\n",
       "    <tr>\n",
       "      <th>23</th>\n",
       "      <td>DragonForce - Three Hammers (Live)</td>\n",
       "    </tr>\n",
       "    <tr>\n",
       "      <th>379</th>\n",
       "      <td>OutKast -- Hey Ya lyrics</td>\n",
       "    </tr>\n",
       "    <tr>\n",
       "      <th>121</th>\n",
       "      <td>Chris Lane - I Don't Know About You (Official ...</td>\n",
       "    </tr>\n",
       "    <tr>\n",
       "      <th rowspan=\"5\" valign=\"top\">5</th>\n",
       "      <th>750</th>\n",
       "      <td>Grey Kingdom 'Sun Like Moon Light' - www.strea...</td>\n",
       "    </tr>\n",
       "    <tr>\n",
       "      <th>590</th>\n",
       "      <td>Madison Violet - Small Of My Heart</td>\n",
       "    </tr>\n",
       "    <tr>\n",
       "      <th>67</th>\n",
       "      <td>Johnny Flynn - Raising the Dead</td>\n",
       "    </tr>\n",
       "    <tr>\n",
       "      <th>502</th>\n",
       "      <td>Mystery Train _ Playing For Change _ Live Outside</td>\n",
       "    </tr>\n",
       "    <tr>\n",
       "      <th>237</th>\n",
       "      <td>Bukka White - Miss Leola</td>\n",
       "    </tr>\n",
       "    <tr>\n",
       "      <th rowspan=\"5\" valign=\"top\">6</th>\n",
       "      <th>20</th>\n",
       "      <td>Huey - Pop, Lock &amp; Drop It (Video Edit)</td>\n",
       "    </tr>\n",
       "    <tr>\n",
       "      <th>41</th>\n",
       "      <td>50 Cent - Outta Control ft. Mobb Deep</td>\n",
       "    </tr>\n",
       "    <tr>\n",
       "      <th>722</th>\n",
       "      <td>Lil Wayne - Fireman (Official Music Video)</td>\n",
       "    </tr>\n",
       "    <tr>\n",
       "      <th>360</th>\n",
       "      <td>Eminem - Stan (Long Version) ft. Dido</td>\n",
       "    </tr>\n",
       "    <tr>\n",
       "      <th>391</th>\n",
       "      <td>Ludacris - Rollout (My Business) (Official Mus...</td>\n",
       "    </tr>\n",
       "    <tr>\n",
       "      <th rowspan=\"5\" valign=\"top\">7</th>\n",
       "      <th>19</th>\n",
       "      <td>Blur - Girls And Boys (Official Music Video)</td>\n",
       "    </tr>\n",
       "    <tr>\n",
       "      <th>250</th>\n",
       "      <td>Central Cee - Retail Therapy [Music Video]</td>\n",
       "    </tr>\n",
       "    <tr>\n",
       "      <th>725</th>\n",
       "      <td>The Struts - Kiss This (2014)</td>\n",
       "    </tr>\n",
       "    <tr>\n",
       "      <th>362</th>\n",
       "      <td>Matchbox Twenty - Wild Dogs (Running in a Slow...</td>\n",
       "    </tr>\n",
       "    <tr>\n",
       "      <th>129</th>\n",
       "      <td>Steel Panther - Party Like Tomorrow Is The End...</td>\n",
       "    </tr>\n",
       "    <tr>\n",
       "      <th rowspan=\"5\" valign=\"top\">8</th>\n",
       "      <th>758</th>\n",
       "      <td>Morgan Evans - Over For You (Official Music Vi...</td>\n",
       "    </tr>\n",
       "    <tr>\n",
       "      <th>526</th>\n",
       "      <td>Kelsie Kimberlin -  Cosmopolitan Girl _ #stand...</td>\n",
       "    </tr>\n",
       "    <tr>\n",
       "      <th>245</th>\n",
       "      <td>Queens Of The Stone Age - No One Knows (Offici...</td>\n",
       "    </tr>\n",
       "    <tr>\n",
       "      <th>373</th>\n",
       "      <td>You Are The First, My Last, My Everything (Bar...</td>\n",
       "    </tr>\n",
       "    <tr>\n",
       "      <th>336</th>\n",
       "      <td>Maroon 5 - Won't Go Home Without You (Official...</td>\n",
       "    </tr>\n",
       "    <tr>\n",
       "      <th rowspan=\"5\" valign=\"top\">9</th>\n",
       "      <th>329</th>\n",
       "      <td>Motörhead – God Save The Queen (Official Video)</td>\n",
       "    </tr>\n",
       "    <tr>\n",
       "      <th>18</th>\n",
       "      <td>Foo Fighters - Best Of You (Official Music Video)</td>\n",
       "    </tr>\n",
       "    <tr>\n",
       "      <th>423</th>\n",
       "      <td>Jet - Are You Gonna Be My Girl</td>\n",
       "    </tr>\n",
       "    <tr>\n",
       "      <th>170</th>\n",
       "      <td>Sex Pistols - God Save The Queen</td>\n",
       "    </tr>\n",
       "    <tr>\n",
       "      <th>782</th>\n",
       "      <td>Social Distortion - Ball and Chain</td>\n",
       "    </tr>\n",
       "  </tbody>\n",
       "</table>\n",
       "</div>"
      ],
      "text/plain": [
       "                                                     song_name\n",
       "cluster                                                       \n",
       "1       695  Luke Bryan - Roller Coaster (Official Music Vi...\n",
       "        57                          Choking Victim - War Story\n",
       "        111         Craig Cardiff - Emm & May (Official Video)\n",
       "        393  Coldplay - Adventure Of A Lifetime (Official V...\n",
       "        626        Murray McLauchlan _ Down by the Henry Moore\n",
       "2       667  Billy Ray Cyrus - Achy Breaky Heart (Official ...\n",
       "        436                            One Direction - You & I\n",
       "        253  Chris Young - The Man I Want To Be (Official V...\n",
       "        820  Sam Smith - Stay With Me ft. Mary J. Blige (Live)\n",
       "        402  Maddie & Tae - Die From A Broken Heart (Offici...\n",
       "3       351  (OOAK) Russ Millions x Buni x YV - Reggae & Ca...\n",
       "        132  Florence + The Machine - Dog Days Are Over (20...\n",
       "        407                       Pennywise - 'Same Old Story'\n",
       "        541   Coldplay - Hymn For The Weekend (Official Video)\n",
       "        760             Sly Slick and Wicked - Somebody Please\n",
       "4       440  Hate It Too - 'Twelve's the New Eight' Officia...\n",
       "        794  Counting Crows - Mr. Jones (Official Music Video)\n",
       "        23                  DragonForce - Three Hammers (Live)\n",
       "        379                           OutKast -- Hey Ya lyrics\n",
       "        121  Chris Lane - I Don't Know About You (Official ...\n",
       "5       750  Grey Kingdom 'Sun Like Moon Light' - www.strea...\n",
       "        590                 Madison Violet - Small Of My Heart\n",
       "        67                     Johnny Flynn - Raising the Dead\n",
       "        502  Mystery Train _ Playing For Change _ Live Outside\n",
       "        237                           Bukka White - Miss Leola\n",
       "6       20             Huey - Pop, Lock & Drop It (Video Edit)\n",
       "        41               50 Cent - Outta Control ft. Mobb Deep\n",
       "        722         Lil Wayne - Fireman (Official Music Video)\n",
       "        360              Eminem - Stan (Long Version) ft. Dido\n",
       "        391  Ludacris - Rollout (My Business) (Official Mus...\n",
       "7       19        Blur - Girls And Boys (Official Music Video)\n",
       "        250         Central Cee - Retail Therapy [Music Video]\n",
       "        725                      The Struts - Kiss This (2014)\n",
       "        362  Matchbox Twenty - Wild Dogs (Running in a Slow...\n",
       "        129  Steel Panther - Party Like Tomorrow Is The End...\n",
       "8       758  Morgan Evans - Over For You (Official Music Vi...\n",
       "        526  Kelsie Kimberlin -  Cosmopolitan Girl _ #stand...\n",
       "        245  Queens Of The Stone Age - No One Knows (Offici...\n",
       "        373  You Are The First, My Last, My Everything (Bar...\n",
       "        336  Maroon 5 - Won't Go Home Without You (Official...\n",
       "9       329    Motörhead – God Save The Queen (Official Video)\n",
       "        18   Foo Fighters - Best Of You (Official Music Video)\n",
       "        423                     Jet - Are You Gonna Be My Girl\n",
       "        170                   Sex Pistols - God Save The Queen\n",
       "        782                 Social Distortion - Ball and Chain"
      ]
     },
     "execution_count": 123,
     "metadata": {},
     "output_type": "execute_result"
    }
   ],
   "source": [
    "columns = ['song_name']\n",
    "sampled_df = embeddings_n.groupby(\"cluster\").apply(lambda x: x.sample(5))[columns]\n",
    "\n",
    "sampled_df"
   ]
  }
 ],
 "metadata": {
  "kernelspec": {
   "display_name": "Python (multimodal)",
   "language": "python",
   "name": "multimodal"
  },
  "language_info": {
   "codemirror_mode": {
    "name": "ipython",
    "version": 3
   },
   "file_extension": ".py",
   "mimetype": "text/x-python",
   "name": "python",
   "nbconvert_exporter": "python",
   "pygments_lexer": "ipython3",
   "version": "3.9.16"
  }
 },
 "nbformat": 4,
 "nbformat_minor": 5
}
