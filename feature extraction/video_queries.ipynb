{
 "cells": [
  {
   "cell_type": "code",
   "execution_count": 1,
   "id": "1017967f",
   "metadata": {},
   "outputs": [],
   "source": [
    "%load_ext autoreload\n",
    "%autoreload 2"
   ]
  },
  {
   "cell_type": "code",
   "execution_count": 2,
   "id": "e57da60d",
   "metadata": {},
   "outputs": [],
   "source": [
    "from video_retrieval import retrieve_closest_videos\n",
    "from sklearn.metrics.pairwise import cosine_similarity\n",
    "from sklearn.decomposition import PCA\n",
    "import yaml\n",
    "import pandas as pd"
   ]
  },
  {
   "cell_type": "code",
   "execution_count": 3,
   "id": "9273c47d",
   "metadata": {},
   "outputs": [],
   "source": [
    "with open('../config.yaml', 'r') as f:\n",
    "    config = yaml.load(f, Loader=yaml.FullLoader)\n",
    "\n",
    "FEATS_PATH = config[\"FEATS_PATH\"]\n",
    "EMBEDDINGS_PATH = config[\"EMBEDDINGS_PATH\"]"
   ]
  },
  {
   "cell_type": "markdown",
   "id": "4210a9f8",
   "metadata": {},
   "source": [
    "Functions that concatenate features of all three modalities."
   ]
  },
  {
   "cell_type": "code",
   "execution_count": 4,
   "id": "d2adf3fe",
   "metadata": {},
   "outputs": [],
   "source": [
    "def create_merged_df(video_feats, audio_feats, text_feats):\n",
    "    \n",
    "    df_audio = pd.read_csv(audio_feats)\n",
    "    df_audio.drop_duplicates(subset='song_name', keep='first', inplace=True, ignore_index=True)\n",
    "    df_text = pd.read_csv(text_feats)\n",
    "    df_text.drop_duplicates(subset='song_name', keep='first', inplace=True, ignore_index=True)\n",
    "    df_video = pd.read_csv(video_feats)\n",
    "    df_video.drop_duplicates(subset='song_name', keep='first', inplace=True, ignore_index=True)\n",
    "\n",
    "    data = pd.merge(df_video, df_audio, on='song_name')\n",
    "    data = pd.merge(data, df_text, on='song_name')\n",
    "\n",
    "    data = data.drop(['audio_path'], axis=1)\n",
    "    \n",
    "    return data"
   ]
  },
  {
   "cell_type": "markdown",
   "id": "71f92d88",
   "metadata": {},
   "source": [
    "Get features without embeddings."
   ]
  },
  {
   "cell_type": "code",
   "execution_count": 5,
   "id": "8a132df1",
   "metadata": {},
   "outputs": [],
   "source": [
    "def initial_features(FEATS_PATH, pca=False):\n",
    "    \n",
    "    video_feats = FEATS_PATH + \"\\\\video_feats.csv\"\n",
    "    audio_feats = FEATS_PATH + \"\\\\audio_feats.csv\"\n",
    "    text_feats = FEATS_PATH + \"\\\\lyrics_embeddings.csv\"\n",
    "\n",
    "    database = create_merged_df(video_feats, audio_feats, text_feats)\n",
    "\n",
    "    video_feats = FEATS_PATH + \"\\\\video_feats_test.csv\"\n",
    "    audio_feats = FEATS_PATH + \"\\\\audio_feats_test.csv\"\n",
    "    text_feats = FEATS_PATH + \"\\\\lyrics_embeddings_test.csv\"\n",
    "\n",
    "    query = create_merged_df(video_feats, audio_feats, text_feats)\n",
    "    \n",
    "    database_song_names = database.iloc[:,0]\n",
    "    query_song_names = query.iloc[:,0]\n",
    "     \n",
    "    if pca:\n",
    "        pca = PCA(n_components=256)\n",
    "        database = pca.fit_transform(database.iloc[:,1:])  \n",
    "        query = pca.transform(query.iloc[:,1:])\n",
    "\n",
    "        database = pd.DataFrame(database)\n",
    "        query = pd.DataFrame(query)\n",
    "\n",
    "        database.insert(0,\"song_name\", database_song_names.to_list())\n",
    "        query.insert(0,\"song_name\", query_song_names.to_list())\n",
    "    \n",
    "    q = query.iloc[0, 1:]\n",
    "\n",
    "    # Get distance \n",
    "    cos_sim = cosine_similarity(database.iloc[:, 1:].values, q.values.reshape(1, -1))\n",
    "    similarity_df = pd.DataFrame({'similarity': cos_sim.flatten(), 'index': database.index})\n",
    "    sorted_df = similarity_df.sort_values(by='similarity', ascending=False)\n",
    "    k = 5  \n",
    "    top_k_rows = database.loc[sorted_df['index'].head(k)]\n",
    "\n",
    "    print(f'Video clip: {query.iloc[0, 0]} similar to the following')\n",
    "    print(top_k_rows.song_name)"
   ]
  },
  {
   "cell_type": "markdown",
   "id": "468a157e",
   "metadata": {},
   "source": [
    "## Query Examples"
   ]
  },
  {
   "cell_type": "markdown",
   "id": "57a1ffcf",
   "metadata": {},
   "source": [
    "Initially, we retrieve the 5 most similar videos using our approach. Subsequently, we repeat the process without obtaining a latent representation, and then again after obtaining one using PCA. Our method outperforms the others."
   ]
  },
  {
   "cell_type": "markdown",
   "id": "be43b50e",
   "metadata": {},
   "source": [
    "**Video Clip 1** : *\"Falling In Reverse - ZOMBIFIED\"*"
   ]
  },
  {
   "cell_type": "markdown",
   "id": "d68e9c15",
   "metadata": {},
   "source": [
    "**AutoEncoder**"
   ]
  },
  {
   "cell_type": "code",
   "execution_count": 6,
   "id": "f5adfbd5",
   "metadata": {},
   "outputs": [
    {
     "name": "stdout",
     "output_type": "stream",
     "text": [
      "[youtube] Extracting URL: https://www.youtube.com/watch?v=YDDz1Er2IXA\n",
      "[youtube] YDDz1Er2IXA: Downloading webpage\n",
      "[youtube] YDDz1Er2IXA: Downloading ios player API JSON\n",
      "[youtube] YDDz1Er2IXA: Downloading android player API JSON\n",
      "[youtube] YDDz1Er2IXA: Downloading m3u8 information\n",
      "[info] YDDz1Er2IXA: Downloading 1 format(s): 625+140\n",
      "[hlsnative] Downloading m3u8 manifest\n",
      "[hlsnative] Total fragments: 43\n",
      "[download] Destination: C:\\Users\\tatbo\\PycharmProjects\\Multimodal\\data\\data_test\\Falling In Reverse - ＂ZOMBIFIED＂.f625.mp4\n",
      "[download] 100% of  353.94MiB in 00:01:34 at 3.73MiB/s                     \n",
      "[download] Destination: C:\\Users\\tatbo\\PycharmProjects\\Multimodal\\data\\data_test\\Falling In Reverse - ＂ZOMBIFIED＂.f140.m4a\n",
      "[download] 100% of    3.67MiB in 00:00:00 at 4.46MiB/s   \n",
      "[Merger] Merging formats into \"C:\\Users\\tatbo\\PycharmProjects\\Multimodal\\data\\data_test\\Falling In Reverse - ＂ZOMBIFIED＂.mp4\"\n",
      "Deleting original file C:\\Users\\tatbo\\PycharmProjects\\Multimodal\\data\\data_test\\Falling In Reverse - ＂ZOMBIFIED＂.f140.m4a (pass -k to keep)\n",
      "Deleting original file C:\\Users\\tatbo\\PycharmProjects\\Multimodal\\data\\data_test\\Falling In Reverse - ＂ZOMBIFIED＂.f625.mp4 (pass -k to keep)\n",
      "Device is: cuda:0\n"
     ]
    },
    {
     "name": "stderr",
     "output_type": "stream",
     "text": [
      "Using cache found in C:\\Users\\tatbo/.cache\\torch\\hub\\facebookresearch_pytorchvideo_main\n"
     ]
    },
    {
     "name": "stdout",
     "output_type": "stream",
     "text": [
      "Number of trainable parameters: 32454096\n",
      "\n",
      "0\n",
      "Device is: cuda:0\n"
     ]
    },
    {
     "name": "stderr",
     "output_type": "stream",
     "text": [
      "Some weights of the model checkpoint at bert-base-uncased were not used when initializing BertModel: ['cls.predictions.transform.dense.weight', 'cls.predictions.bias', 'cls.predictions.transform.dense.bias', 'cls.predictions.transform.LayerNorm.bias', 'cls.predictions.transform.LayerNorm.weight', 'cls.seq_relationship.bias', 'cls.seq_relationship.weight']\n",
      "- This IS expected if you are initializing BertModel from the checkpoint of a model trained on another task or with another architecture (e.g. initializing a BertForSequenceClassification model from a BertForPreTraining model).\n",
      "- This IS NOT expected if you are initializing BertModel from the checkpoint of a model that you expect to be exactly identical (initializing a BertForSequenceClassification model from a BertForSequenceClassification model).\n"
     ]
    },
    {
     "name": "stdout",
     "output_type": "stream",
     "text": [
      "(1, 257)\n",
      "(821, 257)\n",
      "Video clip: Falling In Reverse - ＂ZOMBI similar to the following\n",
      "279    Disturbed - Another Way To Die [Official Music...\n",
      "205    Avenged Sevenfold - Shepherd Of Fire [Official...\n",
      "79     Social Distortion   Reach For The Sky (FMX Mus...\n",
      "640                         WATERPARKS - RITUAL (VISUAL)\n",
      "394              K.Flay - Raw Raw (Official Music Video)\n",
      "Name: song_name, dtype: object\n"
     ]
    }
   ],
   "source": [
    "retrieve_closest_videos(\"Falling In Reverse - ZOMBIFIED\")"
   ]
  },
  {
   "cell_type": "markdown",
   "id": "e1ea2a93",
   "metadata": {},
   "source": [
    "**Raw features**"
   ]
  },
  {
   "cell_type": "code",
   "execution_count": 7,
   "id": "54a9ce10",
   "metadata": {},
   "outputs": [
    {
     "name": "stdout",
     "output_type": "stream",
     "text": [
      "Video clip: Falling In Reverse - ＂ZOMBI similar to the following\n",
      "527                             Parklife (2012 Remaster)\n",
      "543    Sonic Martini Music - User User User (Official...\n",
      "551    The Calling - Wherever You Will Go (First Vide...\n",
      "709          Sum 41 - In Too Deep (Official Music Video)\n",
      "624                  Green Day - Hitchin' A Ride (Video)\n",
      "Name: song_name, dtype: object\n"
     ]
    }
   ],
   "source": [
    "initial_features(FEATS_PATH=FEATS_PATH)"
   ]
  },
  {
   "cell_type": "markdown",
   "id": "832d13e8",
   "metadata": {},
   "source": [
    "**PCA**"
   ]
  },
  {
   "cell_type": "code",
   "execution_count": 8,
   "id": "c4029d1b",
   "metadata": {},
   "outputs": [
    {
     "name": "stdout",
     "output_type": "stream",
     "text": [
      "Video clip: Falling In Reverse - ＂ZOMBI similar to the following\n",
      "737    Yellowcard - Southern Air (+ Lyrics & HQ_HD Au...\n",
      "543    Sonic Martini Music - User User User (Official...\n",
      "496    Matchbox Twenty - Don't Get Me Wrong [Official...\n",
      "184       Destiny's Child - Soldier ft. T.I., Lil' Wayne\n",
      "201    Ice Cube, Mack 10, Ms. Toi - You Can Do It (Of...\n",
      "Name: song_name, dtype: object\n"
     ]
    }
   ],
   "source": [
    "initial_features(FEATS_PATH=FEATS_PATH, pca=True)"
   ]
  },
  {
   "cell_type": "markdown",
   "id": "e885d322",
   "metadata": {},
   "source": [
    "**Video 2** : *\"STORMZY - LONGEVITY FLOW\"*"
   ]
  },
  {
   "cell_type": "markdown",
   "id": "66f2dc66",
   "metadata": {},
   "source": [
    "**AutoEncoder**"
   ]
  },
  {
   "cell_type": "code",
   "execution_count": 9,
   "id": "c2d42982",
   "metadata": {},
   "outputs": [
    {
     "name": "stdout",
     "output_type": "stream",
     "text": [
      "[youtube] Extracting URL: https://www.youtube.com/watch?v=nuSGNTd5kCk\n",
      "[youtube] nuSGNTd5kCk: Downloading webpage\n",
      "[youtube] nuSGNTd5kCk: Downloading ios player API JSON\n",
      "[youtube] nuSGNTd5kCk: Downloading android player API JSON\n",
      "[youtube] nuSGNTd5kCk: Downloading m3u8 information\n",
      "[info] nuSGNTd5kCk: Downloading 1 format(s): 625+140\n",
      "[hlsnative] Downloading m3u8 manifest\n",
      "[hlsnative] Total fragments: 38\n",
      "[download] Destination: C:\\Users\\tatbo\\PycharmProjects\\Multimodal\\data\\data_test\\STORMZY - LONGEVITY FLOW.f625.mp4\n",
      "[download] 100% of  300.17MiB in 00:01:13 at 4.09MiB/s                     \n",
      "[download] Destination: C:\\Users\\tatbo\\PycharmProjects\\Multimodal\\data\\data_test\\STORMZY - LONGEVITY FLOW.f140.m4a\n",
      "[download] 100% of    2.84MiB in 00:00:00 at 4.04MiB/s   \n",
      "[Merger] Merging formats into \"C:\\Users\\tatbo\\PycharmProjects\\Multimodal\\data\\data_test\\STORMZY - LONGEVITY FLOW.mp4\"\n",
      "Deleting original file C:\\Users\\tatbo\\PycharmProjects\\Multimodal\\data\\data_test\\STORMZY - LONGEVITY FLOW.f140.m4a (pass -k to keep)\n",
      "Deleting original file C:\\Users\\tatbo\\PycharmProjects\\Multimodal\\data\\data_test\\STORMZY - LONGEVITY FLOW.f625.mp4 (pass -k to keep)\n",
      "Device is: cuda:0\n"
     ]
    },
    {
     "name": "stderr",
     "output_type": "stream",
     "text": [
      "Using cache found in C:\\Users\\tatbo/.cache\\torch\\hub\\facebookresearch_pytorchvideo_main\n"
     ]
    },
    {
     "name": "stdout",
     "output_type": "stream",
     "text": [
      "Number of trainable parameters: 32454096\n",
      "\n",
      "0\n",
      "Device is: cuda:0\n"
     ]
    },
    {
     "name": "stderr",
     "output_type": "stream",
     "text": [
      "Some weights of the model checkpoint at bert-base-uncased were not used when initializing BertModel: ['cls.predictions.transform.dense.weight', 'cls.predictions.bias', 'cls.predictions.transform.dense.bias', 'cls.predictions.transform.LayerNorm.bias', 'cls.predictions.transform.LayerNorm.weight', 'cls.seq_relationship.bias', 'cls.seq_relationship.weight']\n",
      "- This IS expected if you are initializing BertModel from the checkpoint of a model trained on another task or with another architecture (e.g. initializing a BertForSequenceClassification model from a BertForPreTraining model).\n",
      "- This IS NOT expected if you are initializing BertModel from the checkpoint of a model that you expect to be exactly identical (initializing a BertForSequenceClassification model from a BertForSequenceClassification model).\n"
     ]
    },
    {
     "name": "stdout",
     "output_type": "stream",
     "text": [
      "(1, 257)\n",
      "(821, 257)\n",
      "Video clip: STORMZY - LONGEVITY similar to the following\n",
      "250           Central Cee - Retail Therapy [Music Video]\n",
      "733                Mike Jones - Back Then Part 2 (Video)\n",
      "617    Female Special - Plugged In w_ Fumez The Engin...\n",
      "732    Cristale x Teezandos - Plugged In w_ Fumez The...\n",
      "441    Ying Yang Twins - Salt Shaker (feat. Lil Jon &...\n",
      "Name: song_name, dtype: object\n"
     ]
    }
   ],
   "source": [
    "retrieve_closest_videos(\"STORMZY - LONGEVITY FLOW\")"
   ]
  },
  {
   "cell_type": "markdown",
   "id": "527954f8",
   "metadata": {},
   "source": [
    "**Raw features**"
   ]
  },
  {
   "cell_type": "code",
   "execution_count": 10,
   "id": "bbca3d87",
   "metadata": {},
   "outputs": [
    {
     "name": "stdout",
     "output_type": "stream",
     "text": [
      "Video clip: STORMZY - LONGEVITY similar to the following\n",
      "215                     Lloyd Banks - On Fire (Explicit)\n",
      "118                          Old Dominion - One Man Band\n",
      "531    Ricky Montgomery - Line Without a Hook (Offici...\n",
      "160                  Baby Bash - Suga Suga ft. Frankie J\n",
      "146    Zac Brown Band - Chicken Fried (Official Music...\n",
      "Name: song_name, dtype: object\n"
     ]
    }
   ],
   "source": [
    "initial_features(FEATS_PATH=FEATS_PATH)"
   ]
  },
  {
   "cell_type": "markdown",
   "id": "05ad4d9b",
   "metadata": {},
   "source": [
    "**PCA**"
   ]
  },
  {
   "cell_type": "code",
   "execution_count": 11,
   "id": "6dff21a7",
   "metadata": {},
   "outputs": [
    {
     "name": "stdout",
     "output_type": "stream",
     "text": [
      "Video clip: STORMZY - LONGEVITY similar to the following\n",
      "531    Ricky Montgomery - Line Without a Hook (Offici...\n",
      "160                  Baby Bash - Suga Suga ft. Frankie J\n",
      "215                     Lloyd Banks - On Fire (Explicit)\n",
      "47               Dan + Shay - Speechless (Wedding Video)\n",
      "173    Chris Brown - Yo (Excuse Me Miss) (Official HD...\n",
      "Name: song_name, dtype: object\n"
     ]
    }
   ],
   "source": [
    "initial_features(FEATS_PATH=FEATS_PATH, pca=True)"
   ]
  },
  {
   "cell_type": "markdown",
   "id": "f91983e9",
   "metadata": {},
   "source": [
    "**Video 3** : *\"B.B. King - The Thrill Is Gone\"*"
   ]
  },
  {
   "cell_type": "markdown",
   "id": "07a2e643",
   "metadata": {},
   "source": [
    "**AutoEncoder**"
   ]
  },
  {
   "cell_type": "code",
   "execution_count": 12,
   "id": "ea58daee",
   "metadata": {},
   "outputs": [
    {
     "name": "stdout",
     "output_type": "stream",
     "text": [
      "[youtube] Extracting URL: https://www.youtube.com/watch?v=SgXSomPE_FY\n",
      "[youtube] SgXSomPE_FY: Downloading webpage\n",
      "[youtube] SgXSomPE_FY: Downloading ios player API JSON\n",
      "[youtube] SgXSomPE_FY: Downloading android player API JSON\n",
      "[youtube] SgXSomPE_FY: Downloading m3u8 information\n",
      "[info] SgXSomPE_FY: Downloading 1 format(s): 133+140\n",
      "[download] Destination: C:\\Users\\tatbo\\PycharmProjects\\Multimodal\\data\\data_test\\B.B. King - The Thrill Is Gone [Crossroads 2010] (Official Live Video).f133.mp4\n",
      "[download] 100% of    7.71MiB in 00:00:02 at 3.60MiB/s   \n",
      "[download] Destination: C:\\Users\\tatbo\\PycharmProjects\\Multimodal\\data\\data_test\\B.B. King - The Thrill Is Gone [Crossroads 2010] (Official Live Video).f140.m4a\n",
      "[download] 100% of   10.28MiB in 00:00:02 at 3.60MiB/s   \n",
      "[Merger] Merging formats into \"C:\\Users\\tatbo\\PycharmProjects\\Multimodal\\data\\data_test\\B.B. King - The Thrill Is Gone [Crossroads 2010] (Official Live Video).mp4\"\n",
      "Deleting original file C:\\Users\\tatbo\\PycharmProjects\\Multimodal\\data\\data_test\\B.B. King - The Thrill Is Gone [Crossroads 2010] (Official Live Video).f133.mp4 (pass -k to keep)\n",
      "Deleting original file C:\\Users\\tatbo\\PycharmProjects\\Multimodal\\data\\data_test\\B.B. King - The Thrill Is Gone [Crossroads 2010] (Official Live Video).f140.m4a (pass -k to keep)\n",
      "Device is: cuda:0\n"
     ]
    },
    {
     "name": "stderr",
     "output_type": "stream",
     "text": [
      "Using cache found in C:\\Users\\tatbo/.cache\\torch\\hub\\facebookresearch_pytorchvideo_main\n"
     ]
    },
    {
     "name": "stdout",
     "output_type": "stream",
     "text": [
      "Number of trainable parameters: 32454096\n",
      "\n",
      "0\n",
      "Device is: cuda:0\n"
     ]
    },
    {
     "name": "stderr",
     "output_type": "stream",
     "text": [
      "Some weights of the model checkpoint at bert-base-uncased were not used when initializing BertModel: ['cls.predictions.transform.dense.weight', 'cls.predictions.bias', 'cls.predictions.transform.dense.bias', 'cls.predictions.transform.LayerNorm.bias', 'cls.predictions.transform.LayerNorm.weight', 'cls.seq_relationship.bias', 'cls.seq_relationship.weight']\n",
      "- This IS expected if you are initializing BertModel from the checkpoint of a model trained on another task or with another architecture (e.g. initializing a BertForSequenceClassification model from a BertForPreTraining model).\n",
      "- This IS NOT expected if you are initializing BertModel from the checkpoint of a model that you expect to be exactly identical (initializing a BertForSequenceClassification model from a BertForSequenceClassification model).\n"
     ]
    },
    {
     "name": "stdout",
     "output_type": "stream",
     "text": [
      "(1, 257)\n",
      "(821, 257)\n",
      "Video clip: B.B. King - The Thrill Is Gone [Crossroads 2010] (Official Live V similar to the following\n",
      "504            Georgia field hands - Mary Don't You Weep\n",
      "381                   Tyler Childers _ Feathered Indians\n",
      "613                    Muddy Waters - Crawlin King Snake\n",
      "180    Disturbed - The Sound of Silence [Live in Daws...\n",
      "173    The Midnight Sons Band - Brother - CD Release ...\n",
      "Name: song_name, dtype: object\n"
     ]
    }
   ],
   "source": [
    "retrieve_closest_videos(\"B.B. King - The Thrill Is Gone [Crossroads 2010] (Official Live Video)\")"
   ]
  },
  {
   "cell_type": "markdown",
   "id": "d842f31f",
   "metadata": {},
   "source": [
    "**Raw features**"
   ]
  },
  {
   "cell_type": "code",
   "execution_count": 13,
   "id": "aacea9b4",
   "metadata": {},
   "outputs": [
    {
     "name": "stdout",
     "output_type": "stream",
     "text": [
      "Video clip: B.B. King - The Thrill Is Gone [Crossroads 2010] (Official Live V similar to the following\n",
      "262                                      Bonnie's Lounge\n",
      "603    Bloodhound Gang - Fire Water Burn (Official Vi...\n",
      "58     George Strait - Check Yes Or No (Official Musi...\n",
      "769          The Stylistics - You Make Me Feel Brand New\n",
      "395                                  The Sheepdogs - Who\n",
      "Name: song_name, dtype: object\n"
     ]
    }
   ],
   "source": [
    "initial_features(FEATS_PATH=FEATS_PATH)"
   ]
  },
  {
   "cell_type": "markdown",
   "id": "d6c383af",
   "metadata": {},
   "source": [
    "**PCA**"
   ]
  },
  {
   "cell_type": "code",
   "execution_count": 14,
   "id": "89dfd1c2",
   "metadata": {},
   "outputs": [
    {
     "name": "stdout",
     "output_type": "stream",
     "text": [
      "Video clip: B.B. King - The Thrill Is Gone [Crossroads 2010] (Official Live V similar to the following\n",
      "1                               Bukka White - Miss Leola\n",
      "8                 Mississippi Fred McDowell - John Henry\n",
      "742    Bobby Womack - If You Think You're Lonely Now ...\n",
      "769          The Stylistics - You Make Me Feel Brand New\n",
      "747                        Dells - Oh What a Night -1969\n",
      "Name: song_name, dtype: object\n"
     ]
    }
   ],
   "source": [
    "initial_features(FEATS_PATH=FEATS_PATH, pca=True)"
   ]
  },
  {
   "cell_type": "markdown",
   "id": "797588cd",
   "metadata": {},
   "source": [
    "## Clustering of Latent Space"
   ]
  },
  {
   "cell_type": "code",
   "execution_count": 108,
   "id": "16b931d5",
   "metadata": {},
   "outputs": [],
   "source": [
    "embeddings = pd.read_csv(EMBEDDINGS_PATH)"
   ]
  },
  {
   "cell_type": "code",
   "execution_count": 109,
   "id": "cc1b8517",
   "metadata": {},
   "outputs": [],
   "source": [
    "def cosine_distance(x,y):\n",
    "    return 1-cosine_similarity(x,y)"
   ]
  },
  {
   "cell_type": "code",
   "execution_count": 110,
   "id": "3c219a3c",
   "metadata": {},
   "outputs": [
    {
     "data": {
      "image/png": "[encoded data removed]",
      "text/plain": [
       "<Figure size 640x480 with 1 Axes>"
      ]
     },
     "metadata": {},
     "output_type": "display_data"
    }
   ],
   "source": [
    "import numpy as np\n",
    "from sklearn.cluster import KMeans\n",
    "from sklearn.metrics.pairwise import cosine_similarity\n",
    "import matplotlib.pyplot as plt\n",
    "\n",
    "embeddings_n = embeddings.iloc[:,1:]\n",
    "\n",
    "# Perform K-means clustering for different values of k\n",
    "k_values = [3,5,7,9,11]\n",
    "squared_distances = []\n",
    "for k in k_values:\n",
    "    kmeans = KMeans(n_clusters=k)\n",
    "    labels = kmeans.fit_predict(embeddings_n)\n",
    "    squared_distance = kmeans.inertia_\n",
    "    squared_distances.append(squared_distance)\n",
    "\n",
    "# Plot the Elbow curve\n",
    "plt.plot(k_values, squared_distances, 'bx-')\n",
    "plt.xlabel('Number of Clusters (k)')\n",
    "plt.ylabel('Sum of Squared Distances')\n",
    "plt.title('Elbow Method')\n",
    "plt.show()"
   ]
  },
  {
   "cell_type": "markdown",
   "id": "ad3310fd",
   "metadata": {},
   "source": [
    "Run k-means using \"best\" number of clusters"
   ]
  },
  {
   "cell_type": "code",
   "execution_count": 111,
   "id": "0adb537f",
   "metadata": {},
   "outputs": [],
   "source": [
    "kmeans = KMeans(n_clusters=9)\n",
    "labels = kmeans.fit_predict(embeddings_n)\n",
    "squared_distance = kmeans.inertia_\n",
    "squared_distances.append(squared_distance)"
   ]
  },
  {
   "cell_type": "code",
   "execution_count": 112,
   "id": "1760166f",
   "metadata": {},
   "outputs": [],
   "source": [
    "labels = labels+1\n",
    "labels = list(labels)"
   ]
  },
  {
   "cell_type": "code",
   "execution_count": 113,
   "id": "e9fd91e9",
   "metadata": {
    "collapsed": true
   },
   "outputs": [
    {
     "data": {
      "text/html": [
       "<div>\n",
       "<style scoped>\n",
       "    .dataframe tbody tr th:only-of-type {\n",
       "        vertical-align: middle;\n",
       "    }\n",
       "\n",
       "    .dataframe tbody tr th {\n",
       "        vertical-align: top;\n",
       "    }\n",
       "\n",
       "    .dataframe thead th {\n",
       "        text-align: right;\n",
       "    }\n",
       "</style>\n",
       "<table border=\"1\" class=\"dataframe\">\n",
       "  <thead>\n",
       "    <tr style=\"text-align: right;\">\n",
       "      <th></th>\n",
       "      <th>song_name</th>\n",
       "      <th>cluster</th>\n",
       "      <th>0</th>\n",
       "      <th>1</th>\n",
       "      <th>2</th>\n",
       "      <th>3</th>\n",
       "      <th>4</th>\n",
       "      <th>5</th>\n",
       "      <th>6</th>\n",
       "      <th>7</th>\n",
       "      <th>...</th>\n",
       "      <th>246</th>\n",
       "      <th>247</th>\n",
       "      <th>248</th>\n",
       "      <th>249</th>\n",
       "      <th>250</th>\n",
       "      <th>251</th>\n",
       "      <th>252</th>\n",
       "      <th>253</th>\n",
       "      <th>254</th>\n",
       "      <th>255</th>\n",
       "    </tr>\n",
       "  </thead>\n",
       "  <tbody>\n",
       "    <tr>\n",
       "      <th>0</th>\n",
       "      <td>Thomas Rhett - Die A Happy Man</td>\n",
       "      <td>4</td>\n",
       "      <td>0.807214</td>\n",
       "      <td>0.633600</td>\n",
       "      <td>-0.062627</td>\n",
       "      <td>-0.078656</td>\n",
       "      <td>0.993487</td>\n",
       "      <td>0.657096</td>\n",
       "      <td>-0.626063</td>\n",
       "      <td>-0.979378</td>\n",
       "      <td>...</td>\n",
       "      <td>0.541554</td>\n",
       "      <td>0.026644</td>\n",
       "      <td>-0.993699</td>\n",
       "      <td>-0.987344</td>\n",
       "      <td>0.648988</td>\n",
       "      <td>-0.849688</td>\n",
       "      <td>-0.626969</td>\n",
       "      <td>0.978708</td>\n",
       "      <td>-0.371957</td>\n",
       "      <td>0.226474</td>\n",
       "    </tr>\n",
       "    <tr>\n",
       "      <th>1</th>\n",
       "      <td>TILT  - Libel</td>\n",
       "      <td>3</td>\n",
       "      <td>-0.973501</td>\n",
       "      <td>-0.948540</td>\n",
       "      <td>0.970880</td>\n",
       "      <td>-0.913761</td>\n",
       "      <td>-0.971901</td>\n",
       "      <td>0.811839</td>\n",
       "      <td>-0.233491</td>\n",
       "      <td>-0.004211</td>\n",
       "      <td>...</td>\n",
       "      <td>0.074896</td>\n",
       "      <td>-0.709221</td>\n",
       "      <td>0.563030</td>\n",
       "      <td>0.999122</td>\n",
       "      <td>-0.831629</td>\n",
       "      <td>-0.099273</td>\n",
       "      <td>0.998546</td>\n",
       "      <td>-0.937544</td>\n",
       "      <td>-0.854960</td>\n",
       "      <td>0.883611</td>\n",
       "    </tr>\n",
       "    <tr>\n",
       "      <th>2</th>\n",
       "      <td>Shania Twain - Forever And For Always (Red Ver...</td>\n",
       "      <td>2</td>\n",
       "      <td>0.980960</td>\n",
       "      <td>0.121789</td>\n",
       "      <td>0.754204</td>\n",
       "      <td>-0.819493</td>\n",
       "      <td>0.996373</td>\n",
       "      <td>0.976396</td>\n",
       "      <td>-0.717270</td>\n",
       "      <td>-0.980906</td>\n",
       "      <td>...</td>\n",
       "      <td>-0.364673</td>\n",
       "      <td>-0.980262</td>\n",
       "      <td>-0.950821</td>\n",
       "      <td>0.701570</td>\n",
       "      <td>0.777032</td>\n",
       "      <td>-0.688415</td>\n",
       "      <td>-0.273060</td>\n",
       "      <td>0.962199</td>\n",
       "      <td>0.945031</td>\n",
       "      <td>-0.989199</td>\n",
       "    </tr>\n",
       "    <tr>\n",
       "      <th>3</th>\n",
       "      <td>Nelly - Hot In Herre (Official Music Video)</td>\n",
       "      <td>6</td>\n",
       "      <td>-0.609121</td>\n",
       "      <td>0.638765</td>\n",
       "      <td>-0.804273</td>\n",
       "      <td>0.234387</td>\n",
       "      <td>0.938752</td>\n",
       "      <td>-0.974341</td>\n",
       "      <td>0.901054</td>\n",
       "      <td>0.871889</td>\n",
       "      <td>...</td>\n",
       "      <td>-0.988430</td>\n",
       "      <td>-0.971482</td>\n",
       "      <td>0.982967</td>\n",
       "      <td>-0.959022</td>\n",
       "      <td>0.890857</td>\n",
       "      <td>0.230073</td>\n",
       "      <td>-0.600256</td>\n",
       "      <td>0.414989</td>\n",
       "      <td>0.492938</td>\n",
       "      <td>-0.782129</td>\n",
       "    </tr>\n",
       "    <tr>\n",
       "      <th>4</th>\n",
       "      <td>LL COOL J - Headsprung</td>\n",
       "      <td>6</td>\n",
       "      <td>-0.309150</td>\n",
       "      <td>-0.718403</td>\n",
       "      <td>-0.720790</td>\n",
       "      <td>0.111536</td>\n",
       "      <td>-0.654834</td>\n",
       "      <td>0.966190</td>\n",
       "      <td>0.742143</td>\n",
       "      <td>0.970588</td>\n",
       "      <td>...</td>\n",
       "      <td>-0.947098</td>\n",
       "      <td>-0.993651</td>\n",
       "      <td>0.908819</td>\n",
       "      <td>0.899161</td>\n",
       "      <td>0.649585</td>\n",
       "      <td>-0.751321</td>\n",
       "      <td>-0.751324</td>\n",
       "      <td>0.669397</td>\n",
       "      <td>0.775072</td>\n",
       "      <td>-0.497838</td>\n",
       "    </tr>\n",
       "    <tr>\n",
       "      <th>...</th>\n",
       "      <td>...</td>\n",
       "      <td>...</td>\n",
       "      <td>...</td>\n",
       "      <td>...</td>\n",
       "      <td>...</td>\n",
       "      <td>...</td>\n",
       "      <td>...</td>\n",
       "      <td>...</td>\n",
       "      <td>...</td>\n",
       "      <td>...</td>\n",
       "      <td>...</td>\n",
       "      <td>...</td>\n",
       "      <td>...</td>\n",
       "      <td>...</td>\n",
       "      <td>...</td>\n",
       "      <td>...</td>\n",
       "      <td>...</td>\n",
       "      <td>...</td>\n",
       "      <td>...</td>\n",
       "      <td>...</td>\n",
       "      <td>...</td>\n",
       "    </tr>\n",
       "    <tr>\n",
       "      <th>816</th>\n",
       "      <td>Outkast - So Fresh, So Clean (Official HD Video)</td>\n",
       "      <td>6</td>\n",
       "      <td>0.396298</td>\n",
       "      <td>-0.967212</td>\n",
       "      <td>-0.754197</td>\n",
       "      <td>-0.199249</td>\n",
       "      <td>0.998496</td>\n",
       "      <td>-0.654552</td>\n",
       "      <td>0.878481</td>\n",
       "      <td>0.959535</td>\n",
       "      <td>...</td>\n",
       "      <td>-0.965482</td>\n",
       "      <td>-0.997359</td>\n",
       "      <td>-0.750276</td>\n",
       "      <td>0.129609</td>\n",
       "      <td>0.999449</td>\n",
       "      <td>-0.542297</td>\n",
       "      <td>-0.689597</td>\n",
       "      <td>0.993187</td>\n",
       "      <td>-0.953951</td>\n",
       "      <td>-0.786377</td>\n",
       "    </tr>\n",
       "    <tr>\n",
       "      <th>817</th>\n",
       "      <td>Ricky Montgomery - Line Without a Hook (Offici...</td>\n",
       "      <td>8</td>\n",
       "      <td>0.398780</td>\n",
       "      <td>0.992601</td>\n",
       "      <td>0.037728</td>\n",
       "      <td>0.991507</td>\n",
       "      <td>0.961053</td>\n",
       "      <td>0.785508</td>\n",
       "      <td>0.990429</td>\n",
       "      <td>0.544638</td>\n",
       "      <td>...</td>\n",
       "      <td>-0.771716</td>\n",
       "      <td>0.510719</td>\n",
       "      <td>-0.956835</td>\n",
       "      <td>0.671504</td>\n",
       "      <td>-0.912616</td>\n",
       "      <td>0.973872</td>\n",
       "      <td>0.755712</td>\n",
       "      <td>-0.998973</td>\n",
       "      <td>0.950326</td>\n",
       "      <td>0.026741</td>\n",
       "    </tr>\n",
       "    <tr>\n",
       "      <th>818</th>\n",
       "      <td>Megadeth - Public Enemy No. 1 [OFFICIAL HD VIDEO]</td>\n",
       "      <td>3</td>\n",
       "      <td>0.978117</td>\n",
       "      <td>0.056075</td>\n",
       "      <td>-0.925701</td>\n",
       "      <td>0.997622</td>\n",
       "      <td>-0.320415</td>\n",
       "      <td>0.979800</td>\n",
       "      <td>0.167090</td>\n",
       "      <td>0.986704</td>\n",
       "      <td>...</td>\n",
       "      <td>0.470602</td>\n",
       "      <td>-0.665816</td>\n",
       "      <td>-0.997346</td>\n",
       "      <td>0.720644</td>\n",
       "      <td>0.953972</td>\n",
       "      <td>0.541473</td>\n",
       "      <td>0.641372</td>\n",
       "      <td>0.918582</td>\n",
       "      <td>-0.184970</td>\n",
       "      <td>0.937790</td>\n",
       "    </tr>\n",
       "    <tr>\n",
       "      <th>819</th>\n",
       "      <td>Shakira - Waka Waka (This Time for Africa) (Th...</td>\n",
       "      <td>9</td>\n",
       "      <td>-0.921554</td>\n",
       "      <td>-0.919587</td>\n",
       "      <td>-0.281537</td>\n",
       "      <td>-0.997949</td>\n",
       "      <td>0.375196</td>\n",
       "      <td>-0.990848</td>\n",
       "      <td>-0.928050</td>\n",
       "      <td>-0.649428</td>\n",
       "      <td>...</td>\n",
       "      <td>-0.969228</td>\n",
       "      <td>0.606279</td>\n",
       "      <td>0.989357</td>\n",
       "      <td>-0.960620</td>\n",
       "      <td>-0.343322</td>\n",
       "      <td>-0.497437</td>\n",
       "      <td>-0.374505</td>\n",
       "      <td>0.995391</td>\n",
       "      <td>0.888542</td>\n",
       "      <td>-0.898463</td>\n",
       "    </tr>\n",
       "    <tr>\n",
       "      <th>820</th>\n",
       "      <td>Sam Smith - Stay With Me ft. Mary J. Blige (Live)</td>\n",
       "      <td>2</td>\n",
       "      <td>-0.665199</td>\n",
       "      <td>0.890408</td>\n",
       "      <td>0.997817</td>\n",
       "      <td>-0.031794</td>\n",
       "      <td>0.914639</td>\n",
       "      <td>-0.306351</td>\n",
       "      <td>-0.844132</td>\n",
       "      <td>-0.990730</td>\n",
       "      <td>...</td>\n",
       "      <td>0.959191</td>\n",
       "      <td>-0.431075</td>\n",
       "      <td>0.910065</td>\n",
       "      <td>0.926185</td>\n",
       "      <td>0.788662</td>\n",
       "      <td>0.796115</td>\n",
       "      <td>0.982573</td>\n",
       "      <td>-0.777061</td>\n",
       "      <td>-0.951746</td>\n",
       "      <td>-0.929610</td>\n",
       "    </tr>\n",
       "  </tbody>\n",
       "</table>\n",
       "<p>821 rows × 258 columns</p>\n",
       "</div>"
      ],
      "text/plain": [
       "                                             song_name  cluster         0   \n",
       "0                       Thomas Rhett - Die A Happy Man        4  0.807214  \\\n",
       "1                                        TILT  - Libel        3 -0.973501   \n",
       "2    Shania Twain - Forever And For Always (Red Ver...        2  0.980960   \n",
       "3          Nelly - Hot In Herre (Official Music Video)        6 -0.609121   \n",
       "4                               LL COOL J - Headsprung        6 -0.309150   \n",
       "..                                                 ...      ...       ...   \n",
       "816   Outkast - So Fresh, So Clean (Official HD Video)        6  0.396298   \n",
       "817  Ricky Montgomery - Line Without a Hook (Offici...        8  0.398780   \n",
       "818  Megadeth - Public Enemy No. 1 [OFFICIAL HD VIDEO]        3  0.978117   \n",
       "819  Shakira - Waka Waka (This Time for Africa) (Th...        9 -0.921554   \n",
       "820  Sam Smith - Stay With Me ft. Mary J. Blige (Live)        2 -0.665199   \n",
       "\n",
       "            1         2         3         4         5         6         7   \n",
       "0    0.633600 -0.062627 -0.078656  0.993487  0.657096 -0.626063 -0.979378  \\\n",
       "1   -0.948540  0.970880 -0.913761 -0.971901  0.811839 -0.233491 -0.004211   \n",
       "2    0.121789  0.754204 -0.819493  0.996373  0.976396 -0.717270 -0.980906   \n",
       "3    0.638765 -0.804273  0.234387  0.938752 -0.974341  0.901054  0.871889   \n",
       "4   -0.718403 -0.720790  0.111536 -0.654834  0.966190  0.742143  0.970588   \n",
       "..        ...       ...       ...       ...       ...       ...       ...   \n",
       "816 -0.967212 -0.754197 -0.199249  0.998496 -0.654552  0.878481  0.959535   \n",
       "817  0.992601  0.037728  0.991507  0.961053  0.785508  0.990429  0.544638   \n",
       "818  0.056075 -0.925701  0.997622 -0.320415  0.979800  0.167090  0.986704   \n",
       "819 -0.919587 -0.281537 -0.997949  0.375196 -0.990848 -0.928050 -0.649428   \n",
       "820  0.890408  0.997817 -0.031794  0.914639 -0.306351 -0.844132 -0.990730   \n",
       "\n",
       "     ...       246       247       248       249       250       251   \n",
       "0    ...  0.541554  0.026644 -0.993699 -0.987344  0.648988 -0.849688  \\\n",
       "1    ...  0.074896 -0.709221  0.563030  0.999122 -0.831629 -0.099273   \n",
       "2    ... -0.364673 -0.980262 -0.950821  0.701570  0.777032 -0.688415   \n",
       "3    ... -0.988430 -0.971482  0.982967 -0.959022  0.890857  0.230073   \n",
       "4    ... -0.947098 -0.993651  0.908819  0.899161  0.649585 -0.751321   \n",
       "..   ...       ...       ...       ...       ...       ...       ...   \n",
       "816  ... -0.965482 -0.997359 -0.750276  0.129609  0.999449 -0.542297   \n",
       "817  ... -0.771716  0.510719 -0.956835  0.671504 -0.912616  0.973872   \n",
       "818  ...  0.470602 -0.665816 -0.997346  0.720644  0.953972  0.541473   \n",
       "819  ... -0.969228  0.606279  0.989357 -0.960620 -0.343322 -0.497437   \n",
       "820  ...  0.959191 -0.431075  0.910065  0.926185  0.788662  0.796115   \n",
       "\n",
       "          252       253       254       255  \n",
       "0   -0.626969  0.978708 -0.371957  0.226474  \n",
       "1    0.998546 -0.937544 -0.854960  0.883611  \n",
       "2   -0.273060  0.962199  0.945031 -0.989199  \n",
       "3   -0.600256  0.414989  0.492938 -0.782129  \n",
       "4   -0.751324  0.669397  0.775072 -0.497838  \n",
       "..        ...       ...       ...       ...  \n",
       "816 -0.689597  0.993187 -0.953951 -0.786377  \n",
       "817  0.755712 -0.998973  0.950326  0.026741  \n",
       "818  0.641372  0.918582 -0.184970  0.937790  \n",
       "819 -0.374505  0.995391  0.888542 -0.898463  \n",
       "820  0.982573 -0.777061 -0.951746 -0.929610  \n",
       "\n",
       "[821 rows x 258 columns]"
      ]
     },
     "execution_count": 113,
     "metadata": {},
     "output_type": "execute_result"
    }
   ],
   "source": [
    "# Sample 10 samples from each cluster\n",
    "samples_per_cluster = 5\n",
    "cluster_samples = []\n",
    "\n",
    "embeddings_n.insert(0,\"cluster\", labels)\n",
    "embeddings_n.insert(0,\"song_name\", embeddings.iloc[:,0].to_list())"
   ]
  },
  {
   "cell_type": "code",
   "execution_count": 114,
   "id": "51c15505",
   "metadata": {},
   "outputs": [
    {
     "data": {
      "text/plain": [
       "cluster\n",
       "1     72\n",
       "2    109\n",
       "3    110\n",
       "4    101\n",
       "5     74\n",
       "6    105\n",
       "7     77\n",
       "8     78\n",
       "9     95\n",
       "Name: song_name, dtype: int64"
      ]
     },
     "execution_count": 114,
     "metadata": {},
     "output_type": "execute_result"
    }
   ],
   "source": [
    "embeddings_n.groupby(\"cluster\").count()[\"song_name\"]"
   ]
  },
  {
   "cell_type": "code",
   "execution_count": 123,
   "id": "5137a953",
   "metadata": {
    "scrolled": false
   },
   "outputs": [
    {
     "data": {
      "text/html": [
       "<div>\n",
       "<style scoped>\n",
       "    .dataframe tbody tr th:only-of-type {\n",
       "        vertical-align: middle;\n",
       "    }\n",
       "\n",
       "    .dataframe tbody tr th {\n",
       "        vertical-align: top;\n",
       "    }\n",
       "\n",
       "    .dataframe thead th {\n",
       "        text-align: right;\n",
       "    }\n",
       "</style>\n",
       "<table border=\"1\" class=\"dataframe\">\n",
       "  <thead>\n",
       "    <tr style=\"text-align: right;\">\n",
       "      <th></th>\n",
       "      <th></th>\n",
       "      <th>song_name</th>\n",
       "    </tr>\n",
       "    <tr>\n",
       "      <th>cluster</th>\n",
       "      <th></th>\n",
       "      <th></th>\n",
       "    </tr>\n",
       "  </thead>\n",
       "  <tbody>\n",
       "    <tr>\n",
       "      <th rowspan=\"5\" valign=\"top\">1</th>\n",
       "      <th>695</th>\n",
       "      <td>Luke Bryan - Roller Coaster (Official Music Vi...</td>\n",
       "    </tr>\n",
       "    <tr>\n",
       "      <th>57</th>\n",
       "      <td>Choking Victim - War Story</td>\n",
       "    </tr>\n",
       "    <tr>\n",
       "      <th>111</th>\n",
       "      <td>Craig Cardiff - Emm &amp; May (Official Video)</td>\n",
       "    </tr>\n",
       "    <tr>\n",
       "      <th>393</th>\n",
       "      <td>Coldplay - Adventure Of A Lifetime (Official V...</td>\n",
       "    </tr>\n",
       "    <tr>\n",
       "      <th>626</th>\n",
       "      <td>Murray McLauchlan _ Down by the Henry Moore</td>\n",
       "    </tr>\n",
       "    <tr>\n",
       "      <th rowspan=\"5\" valign=\"top\">2</th>\n",
       "      <th>667</th>\n",
       "      <td>Billy Ray Cyrus - Achy Breaky Heart (Official ...</td>\n",
       "    </tr>\n",
       "    <tr>\n",
       "      <th>436</th>\n",
       "      <td>One Direction - You &amp; I</td>\n",
       "    </tr>\n",
       "    <tr>\n",
       "      <th>253</th>\n",
       "      <td>Chris Young - The Man I Want To Be (Official V...</td>\n",
       "    </tr>\n",
       "    <tr>\n",
       "      <th>820</th>\n",
       "      <td>Sam Smith - Stay With Me ft. Mary J. Blige (Live)</td>\n",
       "    </tr>\n",
       "    <tr>\n",
       "      <th>402</th>\n",
       "      <td>Maddie &amp; Tae - Die From A Broken Heart (Offici...</td>\n",
       "    </tr>\n",
       "    <tr>\n",
       "      <th rowspan=\"5\" valign=\"top\">3</th>\n",
       "      <th>351</th>\n",
       "      <td>(OOAK) Russ Millions x Buni x YV - Reggae &amp; Ca...</td>\n",
       "    </tr>\n",
       "    <tr>\n",
       "      <th>132</th>\n",
       "      <td>Florence + The Machine - Dog Days Are Over (20...</td>\n",
       "    </tr>\n",
       "    <tr>\n",
       "      <th>407</th>\n",
       "      <td>Pennywise - 'Same Old Story'</td>\n",
       "    </tr>\n",
       "    <tr>\n",
       "      <th>541</th>\n",
       "      <td>Coldplay - Hymn For The Weekend (Official Video)</td>\n",
       "    </tr>\n",
       "    <tr>\n",
       "      <th>760</th>\n",
       "      <td>Sly Slick and Wicked - Somebody Please</td>\n",
       "    </tr>\n",
       "    <tr>\n",
       "      <th rowspan=\"5\" valign=\"top\">4</th>\n",
       "      <th>440</th>\n",
       "      <td>Hate It Too - 'Twelve's the New Eight' Officia...</td>\n",
       "    </tr>\n",
       "    <tr>\n",
       "      <th>794</th>\n",
       "      <td>Counting Crows - Mr. Jones (Official Music Video)</td>\n",
       "    </tr>\n",
       "    <tr>\n",
       "      <th>23</th>\n",
       "      <td>DragonForce - Three Hammers (Live)</td>\n",
       "    </tr>\n",
       "    <tr>\n",
       "      <th>379</th>\n",
       "      <td>OutKast -- Hey Ya lyrics</td>\n",
       "    </tr>\n",
       "    <tr>\n",
       "      <th>121</th>\n",
       "      <td>Chris Lane - I Don't Know About You (Official ...</td>\n",
       "    </tr>\n",
       "    <tr>\n",
       "      <th rowspan=\"5\" valign=\"top\">5</th>\n",
       "      <th>750</th>\n",
       "      <td>Grey Kingdom 'Sun Like Moon Light' - www.strea...</td>\n",
       "    </tr>\n",
       "    <tr>\n",
       "      <th>590</th>\n",
       "      <td>Madison Violet - Small Of My Heart</td>\n",
       "    </tr>\n",
       "    <tr>\n",
       "      <th>67</th>\n",
       "      <td>Johnny Flynn - Raising the Dead</td>\n",
       "    </tr>\n",
       "    <tr>\n",
       "      <th>502</th>\n",
       "      <td>Mystery Train _ Playing For Change _ Live Outside</td>\n",
       "    </tr>\n",
       "    <tr>\n",
       "      <th>237</th>\n",
       "      <td>Bukka White - Miss Leola</td>\n",
       "    </tr>\n",
       "    <tr>\n",
       "      <th rowspan=\"5\" valign=\"top\">6</th>\n",
       "      <th>20</th>\n",
       "      <td>Huey - Pop, Lock &amp; Drop It (Video Edit)</td>\n",
       "    </tr>\n",
       "    <tr>\n",
       "      <th>41</th>\n",
       "      <td>50 Cent - Outta Control ft. Mobb Deep</td>\n",
       "    </tr>\n",
       "    <tr>\n",
       "      <th>722</th>\n",
       "      <td>Lil Wayne - Fireman (Official Music Video)</td>\n",
       "    </tr>\n",
       "    <tr>\n",
       "      <th>360</th>\n",
       "      <td>Eminem - Stan (Long Version) ft. Dido</td>\n",
       "    </tr>\n",
       "    <tr>\n",
       "      <th>391</th>\n",
       "      <td>Ludacris - Rollout (My Business) (Official Mus...</td>\n",
       "    </tr>\n",
       "    <tr>\n",
       "      <th rowspan=\"5\" valign=\"top\">7</th>\n",
       "      <th>19</th>\n",
       "      <td>Blur - Girls And Boys (Official Music Video)</td>\n",
       "    </tr>\n",
       "    <tr>\n",
       "      <th>250</th>\n",
       "      <td>Central Cee - Retail Therapy [Music Video]</td>\n",
       "    </tr>\n",
       "    <tr>\n",
       "      <th>725</th>\n",
       "      <td>The Struts - Kiss This (2014)</td>\n",
       "    </tr>\n",
       "    <tr>\n",
       "      <th>362</th>\n",
       "      <td>Matchbox Twenty - Wild Dogs (Running in a Slow...</td>\n",
       "    </tr>\n",
       "    <tr>\n",
       "      <th>129</th>\n",
       "      <td>Steel Panther - Party Like Tomorrow Is The End...</td>\n",
       "    </tr>\n",
       "    <tr>\n",
       "      <th rowspan=\"5\" valign=\"top\">8</th>\n",
       "      <th>758</th>\n",
       "      <td>Morgan Evans - Over For You (Official Music Vi...</td>\n",
       "    </tr>\n",
       "    <tr>\n",
       "      <th>526</th>\n",
       "      <td>Kelsie Kimberlin -  Cosmopolitan Girl _ #stand...</td>\n",
       "    </tr>\n",
       "    <tr>\n",
       "      <th>245</th>\n",
       "      <td>Queens Of The Stone Age - No One Knows (Offici...</td>\n",
       "    </tr>\n",
       "    <tr>\n",
       "      <th>373</th>\n",
       "      <td>You Are The First, My Last, My Everything (Bar...</td>\n",
       "    </tr>\n",
       "    <tr>\n",
       "      <th>336</th>\n",
       "      <td>Maroon 5 - Won't Go Home Without You (Official...</td>\n",
       "    </tr>\n",
       "    <tr>\n",
       "      <th rowspan=\"5\" valign=\"top\">9</th>\n",
       "      <th>329</th>\n",
       "      <td>Motörhead – God Save The Queen (Official Video)</td>\n",
       "    </tr>\n",
       "    <tr>\n",
       "      <th>18</th>\n",
       "      <td>Foo Fighters - Best Of You (Official Music Video)</td>\n",
       "    </tr>\n",
       "    <tr>\n",
       "      <th>423</th>\n",
       "      <td>Jet - Are You Gonna Be My Girl</td>\n",
       "    </tr>\n",
       "    <tr>\n",
       "      <th>170</th>\n",
       "      <td>Sex Pistols - God Save The Queen</td>\n",
       "    </tr>\n",
       "    <tr>\n",
       "      <th>782</th>\n",
       "      <td>Social Distortion - Ball and Chain</td>\n",
       "    </tr>\n",
       "  </tbody>\n",
       "</table>\n",
       "</div>"
      ],
      "text/plain": [
       "                                                     song_name\n",
       "cluster                                                       \n",
       "1       695  Luke Bryan - Roller Coaster (Official Music Vi...\n",
       "        57                          Choking Victim - War Story\n",
       "        111         Craig Cardiff - Emm & May (Official Video)\n",
       "        393  Coldplay - Adventure Of A Lifetime (Official V...\n",
       "        626        Murray McLauchlan _ Down by the Henry Moore\n",
       "2       667  Billy Ray Cyrus - Achy Breaky Heart (Official ...\n",
       "        436                            One Direction - You & I\n",
       "        253  Chris Young - The Man I Want To Be (Official V...\n",
       "        820  Sam Smith - Stay With Me ft. Mary J. Blige (Live)\n",
       "        402  Maddie & Tae - Die From A Broken Heart (Offici...\n",
       "3       351  (OOAK) Russ Millions x Buni x YV - Reggae & Ca...\n",
       "        132  Florence + The Machine - Dog Days Are Over (20...\n",
       "        407                       Pennywise - 'Same Old Story'\n",
       "        541   Coldplay - Hymn For The Weekend (Official Video)\n",
       "        760             Sly Slick and Wicked - Somebody Please\n",
       "4       440  Hate It Too - 'Twelve's the New Eight' Officia...\n",
       "        794  Counting Crows - Mr. Jones (Official Music Video)\n",
       "        23                  DragonForce - Three Hammers (Live)\n",
       "        379                           OutKast -- Hey Ya lyrics\n",
       "        121  Chris Lane - I Don't Know About You (Official ...\n",
       "5       750  Grey Kingdom 'Sun Like Moon Light' - www.strea...\n",
       "        590                 Madison Violet - Small Of My Heart\n",
       "        67                     Johnny Flynn - Raising the Dead\n",
       "        502  Mystery Train _ Playing For Change _ Live Outside\n",
       "        237                           Bukka White - Miss Leola\n",
       "6       20             Huey - Pop, Lock & Drop It (Video Edit)\n",
       "        41               50 Cent - Outta Control ft. Mobb Deep\n",
       "        722         Lil Wayne - Fireman (Official Music Video)\n",
       "        360              Eminem - Stan (Long Version) ft. Dido\n",
       "        391  Ludacris - Rollout (My Business) (Official Mus...\n",
       "7       19        Blur - Girls And Boys (Official Music Video)\n",
       "        250         Central Cee - Retail Therapy [Music Video]\n",
       "        725                      The Struts - Kiss This (2014)\n",
       "        362  Matchbox Twenty - Wild Dogs (Running in a Slow...\n",
       "        129  Steel Panther - Party Like Tomorrow Is The End...\n",
       "8       758  Morgan Evans - Over For You (Official Music Vi...\n",
       "        526  Kelsie Kimberlin -  Cosmopolitan Girl _ #stand...\n",
       "        245  Queens Of The Stone Age - No One Knows (Offici...\n",
       "        373  You Are The First, My Last, My Everything (Bar...\n",
       "        336  Maroon 5 - Won't Go Home Without You (Official...\n",
       "9       329    Motörhead – God Save The Queen (Official Video)\n",
       "        18   Foo Fighters - Best Of You (Official Music Video)\n",
       "        423                     Jet - Are You Gonna Be My Girl\n",
       "        170                   Sex Pistols - God Save The Queen\n",
       "        782                 Social Distortion - Ball and Chain"
      ]
     },
     "execution_count": 123,
     "metadata": {},
     "output_type": "execute_result"
    }
   ],
   "source": [
    "columns = ['song_name']\n",
    "sampled_df = embeddings_n.groupby(\"cluster\").apply(lambda x: x.sample(5))[columns]\n",
    "\n",
    "sampled_df"
   ]
  }
 ],
 "metadata": {
  "kernelspec": {
   "display_name": "Python (multimodal)",
   "language": "python",
   "name": "multimodal"
  },
  "language_info": {
   "codemirror_mode": {
    "name": "ipython",
    "version": 3
   },
   "file_extension": ".py",
   "mimetype": "text/x-python",
   "name": "python",
   "nbconvert_exporter": "python",
   "pygments_lexer": "ipython3",
   "version": "3.9.16"
  }
 },
 "nbformat": 4,
 "nbformat_minor": 5
}
